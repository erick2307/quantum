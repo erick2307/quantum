version https://git-lfs.github.com/spec/v1
oid sha256:1f2e0cd950cd339a32a7dc3bb95904584be3fd6603bb91047778e467dca2852e
size 332885
