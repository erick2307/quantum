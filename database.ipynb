{
 "cells": [
  {
   "attachments": {},
   "cell_type": "markdown",
   "metadata": {},
   "source": [
    "### Copy and Rename last state and weight from simulations"
   ]
  },
  {
   "cell_type": "code",
   "execution_count": 1,
   "metadata": {},
   "outputs": [
    {
     "name": "stdout",
     "output_type": "stream",
     "text": [
      "There are 116 folders.\n",
      "Case: Zone 1 - ETA 15 - EVAC 5\n",
      "---\n",
      "Case: Zone 1 - ETA 15 - EVAC 10\n",
      "---\n",
      "Case: Zone 1 - ETA 30 - EVAC 5\n",
      "---\n",
      "Case: Zone 1 - ETA 30 - EVAC 10\n",
      "---\n",
      "Case: Zone 1 - ETA 30 - EVAC 15\n",
      "---\n",
      "Case: Zone 1 - ETA 30 - EVAC 20\n",
      "---\n",
      "Case: Zone 1 - ETA 30 - EVAC 25\n",
      "---\n",
      "Case: Zone 1 - ETA 60 - EVAC 5\n",
      "---\n",
      "Case: Zone 1 - ETA 60 - EVAC 10\n",
      "---\n",
      "Case: Zone 1 - ETA 60 - EVAC 15\n",
      "---\n",
      "Case: Zone 1 - ETA 60 - EVAC 20\n",
      "---\n",
      "Case: Zone 1 - ETA 60 - EVAC 25\n",
      "---\n",
      "Case: Zone 1 - ETA 60 - EVAC 30\n",
      "---\n",
      "Case: Zone 1 - ETA 60 - EVAC 35\n",
      "---\n",
      "Case: Zone 1 - ETA 60 - EVAC 40\n",
      "---\n",
      "Case: Zone 1 - ETA 60 - EVAC 45\n",
      "---\n",
      "Case: Zone 1 - ETA 60 - EVAC 50\n",
      "---\n",
      "Case: Zone 1 - ETA 60 - EVAC 55\n",
      "---\n",
      "Case: Zone 1 - ETA 60 - EVAC 1\n",
      "---\n",
      "Case: Zone 1 - ETA 30 - EVAC 1\n",
      "---\n",
      "Case: Zone 1 - ETA 15 - EVAC 1\n",
      "---\n",
      "SKIPPED: ./quantum/1670287303382_Zone-1-mssd-c0-15-10/state_15_10_100/sim_000000100.csv\n",
      "---\n",
      "SKIPPED: ./quantum/1670288167693_Zone-1-mssd-c6-15-10/state_15_10_100/sim_000000100.csv\n",
      "---\n",
      "SKIPPED: ./quantum/1670288280195_Zone-1-mssd-c12-15-10/state_15_10_100/sim_000000100.csv\n",
      "---\n",
      "SKIPPED: ./quantum/1670288412725_Zone-1-mssd-c18-15-10/state_15_10_100/sim_000000100.csv\n",
      "---\n",
      "Case: Zone 2 - ETA 15 - EVAC 1\n",
      "---\n",
      "Case: Zone 2 - ETA 15 - EVAC 5\n",
      "---\n",
      "Case: Zone 2 - ETA 15 - EVAC 10\n",
      "---\n",
      "SKIPPED: ./quantum/1670472435683_Zone-2-mssd-c0-15-10/state_15_10_100/sim_000000100.csv\n",
      "---\n",
      "SKIPPED: ./quantum/1670472473157_Zone-2-mssd-c6-15-10/state_15_10_100/sim_000000100.csv\n",
      "---\n",
      "SKIPPED: ./quantum/1670472514248_Zone-2-mssd-c12-15-10/state_15_10_100/sim_000000100.csv\n",
      "---\n",
      "SKIPPED: ./quantum/1670472536321_Zone-2-mssd-c18-15-10/state_15_10_100/sim_000000100.csv\n",
      "---\n",
      "Case: Zone 1 - ETA 20 - EVAC 5\n",
      "---\n",
      "Case: Zone 1 - ETA 20 - EVAC 5\n",
      "---\n",
      "Case: Zone 1 - ETA 20 - EVAC 5\n",
      "---\n",
      "SKIPPED: ./quantum/1671759555894_Zone-1-20-5/state_20_5_100/sim_000000100.csv\n",
      "---\n",
      "Case: Zone 2 - ETA 30 - EVAC 5\n",
      "---\n",
      "Case: Zone 2 - ETA 30 - EVAC 10\n",
      "---\n",
      "Case: Zone 2 - ETA 30 - EVAC 15\n",
      "---\n",
      "Case: Zone 2 - ETA 30 - EVAC 20\n",
      "---\n",
      "Case: Zone 2 - ETA 30 - EVAC 25\n",
      "---\n",
      "Case: Zone 2 - ETA 60 - EVAC 1\n",
      "---\n",
      "Case: Zone 2 - ETA 60 - EVAC 5\n",
      "---\n",
      "Case: Zone 2 - ETA 60 - EVAC 10\n",
      "---\n",
      "Case: Zone 2 - ETA 60 - EVAC 15\n",
      "---\n",
      "Case: Zone 2 - ETA 60 - EVAC 20\n",
      "---\n",
      "Case: Zone 2 - ETA 60 - EVAC 25\n",
      "---\n",
      "Case: Zone 2 - ETA 60 - EVAC 30\n",
      "---\n",
      "Case: Zone 2 - ETA 60 - EVAC 35\n",
      "---\n",
      "Case: Zone 2 - ETA 60 - EVAC 40\n",
      "---\n",
      "Case: Zone 2 - ETA 60 - EVAC 45\n",
      "---\n",
      "Case: Zone 2 - ETA 60 - EVAC 50\n",
      "---\n",
      "Case: Zone 2 - ETA 60 - EVAC 55\n",
      "---\n",
      "Case: Zone 3 - ETA 15 - EVAC 1\n",
      "---\n",
      "Case: Zone 3 - ETA 15 - EVAC 5\n",
      "---\n",
      "Case: Zone 3 - ETA 15 - EVAC 10\n",
      "---\n",
      "Case: Zone 3 - ETA 30 - EVAC 1\n",
      "---\n",
      "Case: Zone 3 - ETA 30 - EVAC 5\n",
      "---\n",
      "Case: Zone 3 - ETA 30 - EVAC 10\n",
      "---\n",
      "Case: Zone 3 - ETA 30 - EVAC 15\n",
      "---\n",
      "Case: Zone 3 - ETA 30 - EVAC 20\n",
      "---\n",
      "Case: Zone 3 - ETA 30 - EVAC 25\n",
      "---\n",
      "Case: Zone 3 - ETA 60 - EVAC 1\n",
      "---\n",
      "Case: Zone 3 - ETA 60 - EVAC 5\n",
      "---\n",
      "Case: Zone 3 - ETA 60 - EVAC 10\n",
      "---\n",
      "Case: Zone 3 - ETA 60 - EVAC 15\n",
      "---\n",
      "Case: Zone 3 - ETA 60 - EVAC 20\n",
      "---\n",
      "Case: Zone 3 - ETA 60 - EVAC 25\n",
      "---\n",
      "Case: Zone 3 - ETA 60 - EVAC 30\n",
      "---\n",
      "Case: Zone 3 - ETA 60 - EVAC 35\n",
      "---\n",
      "Case: Zone 3 - ETA 60 - EVAC 40\n",
      "---\n",
      "Case: Zone 3 - ETA 60 - EVAC 45\n",
      "---\n",
      "Case: Zone 3 - ETA 60 - EVAC 50\n",
      "---\n",
      "Case: Zone 3 - ETA 60 - EVAC 55\n",
      "---\n",
      "Case: Zone 4 - ETA 15 - EVAC 1\n",
      "---\n",
      "Case: Zone 4 - ETA 15 - EVAC 5\n",
      "---\n",
      "Case: Zone 4 - ETA 15 - EVAC 10\n",
      "---\n",
      "Case: Zone 4 - ETA 30 - EVAC 1\n",
      "---\n",
      "Case: Zone 4 - ETA 30 - EVAC 5\n",
      "---\n",
      "Case: Zone 4 - ETA 30 - EVAC 10\n",
      "---\n",
      "Case: Zone 4 - ETA 30 - EVAC 15\n",
      "---\n",
      "Case: Zone 4 - ETA 30 - EVAC 20\n",
      "---\n",
      "Case: Zone 4 - ETA 30 - EVAC 25\n",
      "---\n",
      "Case: Zone 4 - ETA 60 - EVAC 1\n",
      "---\n",
      "Case: Zone 4 - ETA 60 - EVAC 5\n",
      "---\n",
      "Case: Zone 4 - ETA 60 - EVAC 10\n",
      "---\n",
      "Case: Zone 4 - ETA 60 - EVAC 15\n",
      "---\n",
      "Case: Zone 4 - ETA 60 - EVAC 20\n",
      "---\n",
      "Case: Zone 4 - ETA 60 - EVAC 25\n",
      "---\n",
      "Case: Zone 4 - ETA 60 - EVAC 30\n",
      "---\n",
      "Case: Zone 4 - ETA 60 - EVAC 35\n",
      "---\n",
      "Case: Zone 4 - ETA 60 - EVAC 40\n",
      "---\n",
      "Case: Zone 4 - ETA 60 - EVAC 45\n",
      "---\n",
      "Case: Zone 4 - ETA 60 - EVAC 50\n",
      "---\n",
      "Case: Zone 4 - ETA 60 - EVAC 55\n",
      "---\n",
      "Case: Zone 5 - ETA 15 - EVAC 1\n",
      "---\n",
      "Case: Zone 5 - ETA 15 - EVAC 5\n",
      "---\n",
      "Case: Zone 5 - ETA 15 - EVAC 10\n",
      "---\n",
      "Case: Zone 5 - ETA 30 - EVAC 1\n",
      "---\n",
      "Case: Zone 5 - ETA 30 - EVAC 5\n",
      "---\n",
      "Case: Zone 5 - ETA 30 - EVAC 10\n",
      "---\n",
      "Case: Zone 5 - ETA 30 - EVAC 15\n",
      "---\n",
      "Case: Zone 5 - ETA 30 - EVAC 20\n",
      "---\n",
      "Case: Zone 5 - ETA 30 - EVAC 25\n",
      "---\n",
      "Case: Zone 5 - ETA 60 - EVAC 1\n",
      "---\n",
      "Case: Zone 5 - ETA 60 - EVAC 5\n",
      "---\n",
      "Case: Zone 5 - ETA 60 - EVAC 10\n",
      "---\n",
      "Case: Zone 5 - ETA 60 - EVAC 15\n",
      "---\n",
      "Case: Zone 5 - ETA 60 - EVAC 20\n",
      "---\n",
      "Case: Zone 5 - ETA 60 - EVAC 25\n",
      "---\n",
      "Case: Zone 5 - ETA 60 - EVAC 30\n",
      "---\n",
      "Case: Zone 5 - ETA 60 - EVAC 35\n",
      "---\n",
      "Case: Zone 5 - ETA 60 - EVAC 40\n",
      "---\n",
      "Case: Zone 5 - ETA 60 - EVAC 45\n",
      "---\n",
      "Case: Zone 5 - ETA 60 - EVAC 50\n",
      "---\n",
      "Case: Zone 5 - ETA 60 - EVAC 55\n",
      "---\n"
     ]
    }
   ],
   "source": [
    "import glob\n",
    "import shutil\n",
    "import os\n",
    "\n",
    "#list up folders in simulation\n",
    "folders = sorted(glob.glob(\"./quantum/*_Zone-*/\"))\n",
    "print(f'There are {len(folders)} folders.')\n",
    "\n",
    "#get last states and weights\n",
    "for folder in folders:\n",
    "    try:\n",
    "        fns = sorted(glob.glob(folder+'state*/sim*100.csv'))[-1]\n",
    "        fnw = sorted(glob.glob(folder+'weights/*.csv'))[-1]\n",
    "    except:\n",
    "        print(f'SKIPPED: {fns}')\n",
    "        print('---')\n",
    "        continue\n",
    "    \n",
    "    #get case as strings\n",
    "    zone = fns.split('-')[1]\n",
    "    eta = fns.split('-')[2]\n",
    "    evac = fns.split('/s')[0].split('-')[-1] #fns.split('_')[3]\n",
    "    if eta == 'mssd':\n",
    "        print(f'SKIPPED: {fns}')\n",
    "        print('---')\n",
    "        continue\n",
    "    else:\n",
    "        print(f'Case: Zone {zone} - ETA {eta} - EVAC {evac}')\n",
    "    \n",
    "    #copy files\n",
    "    dfs = './database/states'\n",
    "    dfw = './database/weights'\n",
    "    shutil.copy(fns,dfs)\n",
    "    shutil.copy(fnw,dfw)\n",
    "    \n",
    "    #rename files\n",
    "    file_name = fns.split('/')[-1]\n",
    "    try:\n",
    "        os.rename(f'./database/states/{file_name}',f'./database/states/z{zone}_eta{eta}_evac{evac}_{file_name}')\n",
    "    except:\n",
    "        pass\n",
    "    \n",
    "    file_name = fnw.split('/')[-1]\n",
    "    try:\n",
    "        os.rename(f'./database/weights/{file_name}',f'./database/weights/z{zone}_eta{eta}_evac{evac}_{file_name}')\n",
    "    except:\n",
    "        pass\n",
    "    print('---')\n"
   ]
  },
  {
   "attachments": {},
   "cell_type": "markdown",
   "metadata": {},
   "source": [
    "### Move video files to corresponding folder"
   ]
  },
  {
   "cell_type": "code",
   "execution_count": 2,
   "metadata": {},
   "outputs": [],
   "source": [
    "import glob\n",
    "import shutil\n",
    "\n",
    "#move videos to corresponding folder\n",
    "videos = sorted(glob.glob('./quantum/*.mp4'))\n",
    "for video in videos:\n",
    "    vf = video.split('_sim')[0]\n",
    "    shutil.move(video,f'{vf}/.')"
   ]
  },
  {
   "attachments": {},
   "cell_type": "markdown",
   "metadata": {},
   "source": [
    "### Matching of case by looking at population distribution"
   ]
  },
  {
   "cell_type": "code",
   "execution_count": 1,
   "metadata": {},
   "outputs": [],
   "source": [
    "#The real-time data needs to be dissagregated to points, then re-aggregated as a mesh (geojson)\n",
    "#export the geojson to tiff?\n",
    "#compare\n",
    "\n",
    "#imports\n",
    "import pandas as pd\n",
    "import numpy as np\n",
    "import geopandas as gpd\n",
    "import glob\n",
    "\n",
    "#1. Real-time data\n",
    "mssds = glob.glob(\"/Volumes/Pegasus32/kochi/zones/zone01/*mssd*.geojson\") #all available\n",
    "mesh = gpd.read_file(mssds[0]) #one case - let say is the current pop distribution\n",
    "meshp = mesh.to_crs(6690)\n",
    "#!==> Need to disaggregate and re-aggregate this one\n",
    "\n",
    "#2. Database zone 1\n",
    "db_mss = sorted(glob.glob('./quantum/*Zone-1-mssd*/results/agents_startcondition.csv')) #a list\n",
    "db_cen = sorted(glob.glob('./quantum/*/results/agents_startcondition.csv'))[0] #one string\n",
    "\n",
    "def aggregate_points_to_mesh(point_file:str,crs:int):\n",
    "    df = pd.read_csv(point_file,header=None,names=['lon','lat'],usecols=[0,1])\n",
    "    gdf = gpd.GeoDataFrame(df,geometry=gpd.points_from_xy(x=df['lon'],y=df['lat']),crs=crs)\n",
    "    gdf['value']=[1]*gdf.shape[0]\n",
    "    gdf['column']=['agents']*gdf.shape[0]\n",
    "    #Join\n",
    "    dfsjoin = gpd.sjoin(gdf,meshp) #Spatial join Points to polygons\n",
    "    #Aggregate\n",
    "    dfpivot = pd.pivot_table(dfsjoin,values='value',columns=['column'],\n",
    "                            index='MESH4_ID',aggfunc=np.sum,dropna=False,fill_value=0)\n",
    "    dfpolynew = meshp.merge(dfpivot, how='left', on='MESH4_ID',)\n",
    "    dfpolynew.plot(column='agents',cmap='viridis',missing_kwds= dict(color = \"lightgrey\"))  \n",
    "    return dfpolynew\n",
    "\n",
    "\n",
    "\n"
   ]
  },
  {
   "cell_type": "code",
   "execution_count": 2,
   "metadata": {},
   "outputs": [
    {
     "data": {
      "text/plain": [
       "(array([5398., 2667., 3042., 1662., 1771., 2698., 2863., 1117.,  947.,\n",
       "         781.]),\n",
       " array([   0. ,  273.2,  546.4,  819.6, 1092.8, 1366. , 1639.2, 1912.4,\n",
       "        2185.6, 2458.8, 2732. ]),\n",
       " <BarContainer object of 10 artists>)"
      ]
     },
     "execution_count": 2,
     "metadata": {},
     "output_type": "execute_result"
    },
    {
     "data": {
      "image/png": "[encoded data removed]",
      "text/plain": [
       "<Figure size 640x480 with 1 Axes>"
      ]
     },
     "metadata": {},
     "output_type": "display_data"
    }
   ],
   "source": [
    "from pathlib import Path\n",
    "import matplotlib.pyplot as plt\n",
    "\n",
    "CASE_FOLDER = \"case\"\n",
    "POPULATION_FILE = mssds[0] #path string to a MSS mesh data - geojson\n",
    "POPULATION_FIELDNAME_IN_FILE = 'population'\n",
    "PJ_CRS = 6690\n",
    "\n",
    "def create_folder(dirname):\n",
    "    Path(dirname).mkdir(parents=True, exist_ok=True)\n",
    "    \n",
    "def pointsWithinPolygon(poly):\n",
    "    # Get the nodes within a polygon\n",
    "    df = pd.read_csv(Path(CASE_FOLDER, \"nodesdb.csv\"))\n",
    "    nodes = gpd.GeoDataFrame(\n",
    "        df, geometry=gpd.points_from_xy(df.coord_x, df.coord_y), crs=PJ_CRS\n",
    "    )\n",
    "    gs = gpd.GeoSeries(nodes.geometry)\n",
    "    ninarea = nodes[gs.within(poly)]\n",
    "    return ninarea\n",
    "\n",
    "# Create the agentsdb\n",
    "def appendAgents(agentsdb, pop, index, poly):\n",
    "    # Get a polygon\n",
    "    poly_pop = pop[POPULATION_FIELDNAME_IN_FILE].to_list()[index]\n",
    "    ninarea = pointsWithinPolygon(poly)\n",
    "    if ninarea.shape[0] == 0:\n",
    "        return agentsdb\n",
    "    pop_per_node = int(poly_pop / ninarea.shape[0])\n",
    "    from_row = np.trim_zeros(agentsdb[:, 4], \"b\").shape[0]\n",
    "    to_row = from_row + ninarea.shape[0] * pop_per_node  # +1?\n",
    "    n = ninarea[\"# number\"].to_list()\n",
    "    nr = np.repeat(n, pop_per_node)\n",
    "    agentsdb[from_row:to_row, 4] = nr\n",
    "    return agentsdb\n",
    "\n",
    "#===============\n",
    "\n",
    "create_folder(dirname=CASE_FOLDER)\n",
    "pop = gpd.read_file(POPULATION_FILE)\n",
    "pop_pj = pop.to_crs(PJ_CRS)\n",
    "\n",
    "agentsdb = np.zeros((int(pop[POPULATION_FIELDNAME_IN_FILE].sum()), 5))\n",
    "for i, g in enumerate(pop_pj.geometry.to_list()):\n",
    "    agentsdb = appendAgents(agentsdb, pop=pop_pj, index=i, poly=g)\n",
    "last = np.trim_zeros(agentsdb[:, 4], \"b\").shape[0]\n",
    "agentsdb = agentsdb[:last, :]\n",
    "np.savetxt(\n",
    "    Path(CASE_FOLDER, \"agentsdb.csv\"),\n",
    "    agentsdb,\n",
    "    delimiter=\",\",\n",
    "    header=\"age,gender,hhType,hhId,Node\",\n",
    "    fmt=\"%d,%d,%d,%d,%d\",\n",
    ")\n",
    "\n",
    "plt.hist(agentsdb[:,4])\n"
   ]
  },
  {
   "cell_type": "code",
   "execution_count": 10,
   "metadata": {},
   "outputs": [
    {
     "name": "stdout",
     "output_type": "stream",
     "text": [
      "6 : ./quantum/1678109375875_Zone-1-mssd-c0-15-1/data/agentsdb.csv\n",
      "Similarity Index = 1.0\n"
     ]
    }
   ],
   "source": [
    "#after dissagreggation we have 'agentsdb_gt'x1 (ground truth) - 'agentsdb_db'xN\n",
    "#compare and match\n",
    "from scipy.stats import pearsonr \n",
    "\n",
    "agentsdb_gt = agentsdb[:,4].copy() #numpy of 1D\n",
    "filenames = glob.glob('./quantum/*_Zone-1*/data/agentsdb.csv')\n",
    "max = -1000\n",
    "pos = None\n",
    "for i, filename in enumerate(filenames):\n",
    "    agentsdb_db = np.loadtxt(filename,delimiter=\",\", usecols=4, dtype=np.int16)\n",
    "    if agentsdb_gt.shape[0] < agentsdb_db.shape[0]:\n",
    "        agentsdb_db = agentsdb_db[:agentsdb_gt.shape[0]].copy()\n",
    "    else:\n",
    "        agentsdb_gt = agentsdb_gt[:agentsdb_db.shape[0]].copy()\n",
    "    # sim_index = np.corrcoef(agentsdb_gt,agentsdb_db).sum()\n",
    "    sim_index = pearsonr(agentsdb_gt,agentsdb_db).statistic\n",
    "    if max < sim_index:\n",
    "        pos = i\n",
    "        max = sim_index\n",
    "        \n",
    "print(f'{pos} : {filenames[pos]}')\n",
    "print(f'Similarity Index = {max}')\n",
    "    "
   ]
  },
  {
   "cell_type": "code",
   "execution_count": 53,
   "metadata": {},
   "outputs": [
    {
     "data": {
      "image/png": "[encoded data removed]",
      "text/plain": [
       "<Figure size 640x480 with 1 Axes>"
      ]
     },
     "metadata": {},
     "output_type": "display_data"
    }
   ],
   "source": [
    "import cmcrameri.cm as cmc\n",
    "import random\n",
    "import string\n",
    "\n",
    "accw = np.loadtxt('./acc_weight_Zone-1-60-20.csv',skiprows=1,delimiter=',',usecols=1)\n",
    "N, bins, patches = plt.hist(accw,bins=[-1, 0, 1, 5, 10, 25, 50, 100],log=True,density=True)\n",
    "# Random facecolor for each bar\n",
    "color = cmc.bilbao(np.linspace(0,1,len(N)))\n",
    "for i in range(len(N)):\n",
    "   patches[i].set_facecolor(color[i])\n",
    "plt.title('Max evacuees at links during simulation')\n",
    "plt.xlabel('Number of evacuees')\n",
    "plt.ylabel('frequency')\n",
    "plt.xticks(ticks=bins[2:],labels=bins[2:],rotation=45);\n",
    "   \n"
   ]
  },
  {
   "cell_type": "code",
   "execution_count": null,
   "metadata": {},
   "outputs": [],
   "source": []
  },
  {
   "cell_type": "code",
   "execution_count": null,
   "metadata": {},
   "outputs": [],
   "source": []
  },
  {
   "attachments": {},
   "cell_type": "markdown",
   "metadata": {},
   "source": [
    "### Plot cases"
   ]
  },
  {
   "cell_type": "code",
   "execution_count": 3,
   "metadata": {},
   "outputs": [
    {
     "data": {
      "text/plain": [
       "<Axes: >"
      ]
     },
     "execution_count": 3,
     "metadata": {},
     "output_type": "execute_result"
    },
    {
     "data": {
      "image/png": "[encoded data removed]",
      "text/plain": [
       "<Figure size 640x480 with 5 Axes>"
      ]
     },
     "metadata": {},
     "output_type": "display_data"
    }
   ],
   "source": [
    "#Convert database of population to 500m grid\n",
    "import pandas as pd\n",
    "import geopandas as gpd\n",
    "import numpy as np\n",
    "import matplotlib.pyplot as plt\n",
    "import glob\n",
    "\n",
    "breakat = 4 #len(files)\n",
    "files = sorted(glob.glob('./quantum/*mssd*/results/agents_startcondition.csv'))\n",
    "remain = len(files)-breakat\n",
    "fig, axs = plt.subplots(breakat+1,1)\n",
    "#get a mesh of the area\n",
    "mssds = glob.glob(\"/Volumes/Pegasus32/kochi/zones/zone01/*mssd*.geojson\")\n",
    "mesh = gpd.read_file(mssds[0])\n",
    "meshp = mesh.to_crs(6690)\n",
    "for i,file in enumerate(files):\n",
    "    if i == breakat:\n",
    "        break\n",
    "    df = pd.read_csv(file,header=None,names=['lon','lat'],usecols=[0,1])\n",
    "    gdf = gpd.GeoDataFrame(df,geometry=gpd.points_from_xy(x=df['lon'],y=df['lat']),crs=6690)\n",
    "    gdf['value']=[1]*gdf.shape[0]\n",
    "    gdf['column']=['agents']*gdf.shape[0]\n",
    "    #Join\n",
    "    dfsjoin = gpd.sjoin(gdf,meshp) #Spatial join Points to polygons\n",
    "    #Aggregate\n",
    "    dfpivot = pd.pivot_table(dfsjoin,values='value',columns=['column'],\n",
    "                            index='MESH4_ID',aggfunc=np.sum,dropna=False,fill_value=0)\n",
    "    dfpolynew = meshp.merge(dfpivot, how='left', on='MESH4_ID',)  \n",
    "    dfpolynew.plot(ax=axs[i],column='agents',cmap='viridis',missing_kwds= dict(color = \"lightgrey\"))\n",
    "meshp.plot(ax=axs[breakat],column='population',cmap='viridis',missing_kwds= dict(color = \"lightgrey\"))"
   ]
  },
  {
   "cell_type": "code",
   "execution_count": 88,
   "metadata": {},
   "outputs": [
    {
     "data": {
      "text/plain": [
       "<AxesSubplot: >"
      ]
     },
     "execution_count": 88,
     "metadata": {},
     "output_type": "execute_result"
    },
    {
     "data": {
      "image/png": "[encoded data removed]",
      "text/plain": [
       "<Figure size 5000x1000 with 5 Axes>"
      ]
     },
     "metadata": {},
     "output_type": "display_data"
    }
   ],
   "source": [
    "import matplotlib.pyplot as plt\n",
    "import glob\n",
    "\n",
    "mssds = glob.glob(\"/Volumes/Pegasus32/kochi/zones/zone01/*mssd*.geojson\")\n",
    "fig, axs = plt.subplots(len(mssds)+1,1,figsize=(50,10))\n",
    "for i, mss in enumerate(mssds):\n",
    "    mesh = gpd.read_file(mss)\n",
    "    meshp = mesh.to_crs(6690)\n",
    "    meshp.plot(ax=axs[i],column='population',cmap='viridis',missing_kwds= dict(color = \"lightgrey\"))\n",
    "dfpolynew.plot(ax=axs[len(mssds)],column='agents',cmap='viridis',missing_kwds= dict(color = \"lightgrey\"))"
   ]
  },
  {
   "cell_type": "code",
   "execution_count": 1,
   "metadata": {},
   "outputs": [],
   "source": [
    "import pandas as pd\n",
    "import numpy as np\n",
    "import geopandas as gpd\n",
    "import glob\n",
    "\n",
    "#1. Real-time data\n",
    "mssds = glob.glob(\"/Volumes/Pegasus32/kochi/zones/zone01/*mssd*.geojson\")\n",
    "mesh = gpd.read_file(mssds[0])\n",
    "meshp = mesh.to_crs(6690)"
   ]
  },
  {
   "cell_type": "code",
   "execution_count": 2,
   "metadata": {},
   "outputs": [
    {
     "data": {
      "text/html": [
       "<div style=\"width:100%;\"><div style=\"position:relative;width:100%;height:0;padding-bottom:60%;\"><span style=\"color:#565656\">Make this Notebook Trusted to load map: File -> Trust Notebook</span><iframe srcdoc=\"&lt;!DOCTYPE html&gt;\n",
       "&lt;html&gt;\n",
       "&lt;head&gt;\n",
       "    \n",
       "    &lt;meta http-equiv=&quot;content-type&quot; content=&quot;text/html; charset=UTF-8&quot; /&gt;\n",
       "    \n",
       "        &lt;script&gt;\n",
       "            L_NO_TOUCH = false;\n",
       "            L_DISABLE_3D = false;\n",
       "        &lt;/script&gt;\n",
       "    \n",
       "    &lt;style&gt;html, body {width: 100%;height: 100%;margin: 0;padding: 0;}&lt;/style&gt;\n",
       "    &lt;style&gt;#map {position:absolute;top:0;bottom:0;right:0;left:0;}&lt;/style&gt;\n",
       "    &lt;script src=&quot;https://cdn.jsdelivr.net/npm/leaflet@1.9.3/dist/leaflet.js&quot;&gt;&lt;/script&gt;\n",
       "    &lt;script src=&quot;https://code.jquery.com/jquery-1.12.4.min.js&quot;&gt;&lt;/script&gt;\n",
       "    &lt;script src=&quot;https://cdn.jsdelivr.net/npm/bootstrap@5.2.2/dist/js/bootstrap.bundle.min.js&quot;&gt;&lt;/script&gt;\n",
       "    &lt;script src=&quot;https://cdnjs.cloudflare.com/ajax/libs/Leaflet.awesome-markers/2.0.2/leaflet.awesome-markers.js&quot;&gt;&lt;/script&gt;\n",
       "    &lt;link rel=&quot;stylesheet&quot; href=&quot;https://cdn.jsdelivr.net/npm/leaflet@1.9.3/dist/leaflet.css&quot;/&gt;\n",
       "    &lt;link rel=&quot;stylesheet&quot; href=&quot;https://cdn.jsdelivr.net/npm/bootstrap@5.2.2/dist/css/bootstrap.min.css&quot;/&gt;\n",
       "    &lt;link rel=&quot;stylesheet&quot; href=&quot;https://netdna.bootstrapcdn.com/bootstrap/3.0.0/css/bootstrap.min.css&quot;/&gt;\n",
       "    &lt;link rel=&quot;stylesheet&quot; href=&quot;https://cdn.jsdelivr.net/npm/@fortawesome/fontawesome-free@6.2.0/css/all.min.css&quot;/&gt;\n",
       "    &lt;link rel=&quot;stylesheet&quot; href=&quot;https://cdnjs.cloudflare.com/ajax/libs/Leaflet.awesome-markers/2.0.2/leaflet.awesome-markers.css&quot;/&gt;\n",
       "    &lt;link rel=&quot;stylesheet&quot; href=&quot;https://cdn.jsdelivr.net/gh/python-visualization/folium/folium/templates/leaflet.awesome.rotate.min.css&quot;/&gt;\n",
       "    \n",
       "            &lt;meta name=&quot;viewport&quot; content=&quot;width=device-width,\n",
       "                initial-scale=1.0, maximum-scale=1.0, user-scalable=no&quot; /&gt;\n",
       "            &lt;style&gt;\n",
       "                #map_372dc082fc077d51f904105696782757 {\n",
       "                    position: relative;\n",
       "                    width: 100.0%;\n",
       "                    height: 100.0%;\n",
       "                    left: 0.0%;\n",
       "                    top: 0.0%;\n",
       "                }\n",
       "                .leaflet-container { font-size: 1rem; }\n",
       "            &lt;/style&gt;\n",
       "        \n",
       "    \n",
       "                    &lt;style&gt;\n",
       "                        .foliumtooltip {\n",
       "                            \n",
       "                        }\n",
       "                       .foliumtooltip table{\n",
       "                            margin: auto;\n",
       "                        }\n",
       "                        .foliumtooltip tr{\n",
       "                            text-align: left;\n",
       "                        }\n",
       "                        .foliumtooltip th{\n",
       "                            padding: 2px; padding-right: 8px;\n",
       "                        }\n",
       "                    &lt;/style&gt;\n",
       "            \n",
       "&lt;/head&gt;\n",
       "&lt;body&gt;\n",
       "    \n",
       "    \n",
       "            &lt;div class=&quot;folium-map&quot; id=&quot;map_372dc082fc077d51f904105696782757&quot; &gt;&lt;/div&gt;\n",
       "        \n",
       "&lt;/body&gt;\n",
       "&lt;script&gt;\n",
       "    \n",
       "    \n",
       "            var map_372dc082fc077d51f904105696782757 = L.map(\n",
       "                &quot;map_372dc082fc077d51f904105696782757&quot;,\n",
       "                {\n",
       "                    center: [33.54583333309184, 133.54374999986254],\n",
       "                    crs: L.CRS.EPSG3857,\n",
       "                    zoom: 10,\n",
       "                    zoomControl: true,\n",
       "                    preferCanvas: false,\n",
       "                }\n",
       "            );\n",
       "            L.control.scale().addTo(map_372dc082fc077d51f904105696782757);\n",
       "\n",
       "            \n",
       "\n",
       "        \n",
       "    \n",
       "            var tile_layer_69d1059ef94fe3a93b9fbf6d2869bbf3 = L.tileLayer(\n",
       "                &quot;https://{s}.tile.openstreetmap.org/{z}/{x}/{y}.png&quot;,\n",
       "                {&quot;attribution&quot;: &quot;Data by \\u0026copy; \\u003ca target=\\&quot;_blank\\&quot; href=\\&quot;http://openstreetmap.org\\&quot;\\u003eOpenStreetMap\\u003c/a\\u003e, under \\u003ca target=\\&quot;_blank\\&quot; href=\\&quot;http://www.openstreetmap.org/copyright\\&quot;\\u003eODbL\\u003c/a\\u003e.&quot;, &quot;detectRetina&quot;: false, &quot;maxNativeZoom&quot;: 18, &quot;maxZoom&quot;: 18, &quot;minZoom&quot;: 0, &quot;noWrap&quot;: false, &quot;opacity&quot;: 1, &quot;subdomains&quot;: &quot;abc&quot;, &quot;tms&quot;: false}\n",
       "            ).addTo(map_372dc082fc077d51f904105696782757);\n",
       "        \n",
       "    \n",
       "            map_372dc082fc077d51f904105696782757.fitBounds(\n",
       "                [[33.52916666660836, 133.51874999991253], [33.56249999957532, 133.56874999981255]],\n",
       "                {}\n",
       "            );\n",
       "        \n",
       "    \n",
       "        function geo_json_bf22ed4443273a5ec7025c3b5cd67a15_styler(feature) {\n",
       "            switch(feature.id) {\n",
       "                default:\n",
       "                    return {&quot;fillOpacity&quot;: 0.5, &quot;weight&quot;: 2};\n",
       "            }\n",
       "        }\n",
       "        function geo_json_bf22ed4443273a5ec7025c3b5cd67a15_highlighter(feature) {\n",
       "            switch(feature.id) {\n",
       "                default:\n",
       "                    return {&quot;fillOpacity&quot;: 0.75};\n",
       "            }\n",
       "        }\n",
       "        function geo_json_bf22ed4443273a5ec7025c3b5cd67a15_pointToLayer(feature, latlng) {\n",
       "            var opts = {&quot;bubblingMouseEvents&quot;: true, &quot;color&quot;: &quot;#3388ff&quot;, &quot;dashArray&quot;: null, &quot;dashOffset&quot;: null, &quot;fill&quot;: true, &quot;fillColor&quot;: &quot;#3388ff&quot;, &quot;fillOpacity&quot;: 0.2, &quot;fillRule&quot;: &quot;evenodd&quot;, &quot;lineCap&quot;: &quot;round&quot;, &quot;lineJoin&quot;: &quot;round&quot;, &quot;opacity&quot;: 1.0, &quot;radius&quot;: 2, &quot;stroke&quot;: true, &quot;weight&quot;: 3};\n",
       "            \n",
       "            let style = geo_json_bf22ed4443273a5ec7025c3b5cd67a15_styler(feature)\n",
       "            Object.assign(opts, style)\n",
       "            \n",
       "            return new L.CircleMarker(latlng, opts)\n",
       "        }\n",
       "\n",
       "        function geo_json_bf22ed4443273a5ec7025c3b5cd67a15_onEachFeature(feature, layer) {\n",
       "            layer.on({\n",
       "                mouseout: function(e) {\n",
       "                    if(typeof e.target.setStyle === &quot;function&quot;){\n",
       "                        geo_json_bf22ed4443273a5ec7025c3b5cd67a15.resetStyle(e.target);\n",
       "                    }\n",
       "                },\n",
       "                mouseover: function(e) {\n",
       "                    if(typeof e.target.setStyle === &quot;function&quot;){\n",
       "                        const highlightStyle = geo_json_bf22ed4443273a5ec7025c3b5cd67a15_highlighter(e.target.feature)\n",
       "                        e.target.setStyle(highlightStyle);\n",
       "                    }\n",
       "                },\n",
       "            });\n",
       "        };\n",
       "        var geo_json_bf22ed4443273a5ec7025c3b5cd67a15 = L.geoJson(null, {\n",
       "                onEachFeature: geo_json_bf22ed4443273a5ec7025c3b5cd67a15_onEachFeature,\n",
       "            \n",
       "                style: geo_json_bf22ed4443273a5ec7025c3b5cd67a15_styler,\n",
       "                pointToLayer: geo_json_bf22ed4443273a5ec7025c3b5cd67a15_pointToLayer\n",
       "        });\n",
       "\n",
       "        function geo_json_bf22ed4443273a5ec7025c3b5cd67a15_add (data) {\n",
       "            geo_json_bf22ed4443273a5ec7025c3b5cd67a15\n",
       "                .addData(data)\n",
       "                .addTo(map_372dc082fc077d51f904105696782757);\n",
       "        }\n",
       "            geo_json_bf22ed4443273a5ec7025c3b5cd67a15_add({&quot;bbox&quot;: [133.51874999991253, 33.52916666660836, 133.56874999981255, 33.56249999957532], &quot;features&quot;: [{&quot;bbox&quot;: [133.51874999991253, 33.52916666660836, 133.52500000034968, 33.533333333566475], &quot;geometry&quot;: {&quot;coordinates&quot;: [[[[133.51874999991253, 33.533333333566475], [133.52500000034968, 33.533333333566475], [133.52500000034968, 33.529166666608376], [133.51874999991253, 33.52916666660836], [133.51874999991253, 33.533333333566475]]]], &quot;type&quot;: &quot;MultiPolygon&quot;}, &quot;id&quot;: &quot;0&quot;, &quot;properties&quot;: {&quot;MESH1_ID&quot;: 5033, &quot;MESH2_ID&quot;: 503324, &quot;MESH3_ID&quot;: 50332431, &quot;MESH4_ID&quot;: 503324314, &quot;OBJECTID&quot;: 1569728, &quot;Shape_Area&quot;: 2.60416703096e-05, &quot;Shape_Leng&quot;: 0.0208333347905, &quot;age&quot;: -1, &quot;area&quot;: 503324314, &quot;date&quot;: 20220328, &quot;gender&quot;: -1, &quot;population&quot;: 145, &quot;residence&quot;: -1, &quot;time&quot;: 0}, &quot;type&quot;: &quot;Feature&quot;}, {&quot;bbox&quot;: [133.52500000034968, 33.52916666660837, 133.53124999988756, 33.533333333566475], &quot;geometry&quot;: {&quot;coordinates&quot;: [[[[133.52500000034968, 33.533333333566475], [133.53124999988756, 33.53333333356646], [133.53124999988756, 33.52916666660837], [133.52500000034968, 33.529166666608376], [133.52500000034968, 33.533333333566475]]]], &quot;type&quot;: &quot;MultiPolygon&quot;}, &quot;id&quot;: &quot;1&quot;, &quot;properties&quot;: {&quot;MESH1_ID&quot;: 5033, &quot;MESH2_ID&quot;: 503324, &quot;MESH3_ID&quot;: 50332432, &quot;MESH4_ID&quot;: 503324323, &quot;OBJECTID&quot;: 1569731, &quot;Shape_Area&quot;: 2.60416665626e-05, &quot;Shape_Leng&quot;: 0.020833332992, &quot;age&quot;: -1, &quot;area&quot;: 503324323, &quot;date&quot;: 20220328, &quot;gender&quot;: -1, &quot;population&quot;: 32, &quot;residence&quot;: -1, &quot;time&quot;: 0}, &quot;type&quot;: &quot;Feature&quot;}, {&quot;bbox&quot;: [133.5375000003247, 33.52916666660836, 133.5437499998626, 33.53333333356647], &quot;geometry&quot;: {&quot;coordinates&quot;: [[[[133.5375000003247, 33.53333333356647], [133.5437499998626, 33.53333333356647], [133.5437499998626, 33.52916666660838], [133.5375000003247, 33.52916666660836], [133.5375000003247, 33.53333333356647]]]], &quot;type&quot;: &quot;MultiPolygon&quot;}, &quot;id&quot;: &quot;2&quot;, &quot;properties&quot;: {&quot;MESH1_ID&quot;: 5033, &quot;MESH2_ID&quot;: 503324, &quot;MESH3_ID&quot;: 50332433, &quot;MESH4_ID&quot;: 503324333, &quot;OBJECTID&quot;: 1569735, &quot;Shape_Area&quot;: 2.60416665626e-05, &quot;Shape_Leng&quot;: 0.020833332992, &quot;age&quot;: -1, &quot;area&quot;: 503324333, &quot;date&quot;: 20220328, &quot;gender&quot;: -1, &quot;population&quot;: 74, &quot;residence&quot;: -1, &quot;time&quot;: 0}, &quot;type&quot;: &quot;Feature&quot;}, {&quot;bbox&quot;: [133.5437499998626, 33.52916666660837, 133.55000000029975, 33.533333333566475], &quot;geometry&quot;: {&quot;coordinates&quot;: [[[[133.5437499998626, 33.53333333356647], [133.55000000029975, 33.533333333566475], [133.55000000029975, 33.52916666660837], [133.5437499998626, 33.52916666660838], [133.5437499998626, 33.53333333356647]]]], &quot;type&quot;: &quot;MultiPolygon&quot;}, &quot;id&quot;: &quot;3&quot;, &quot;properties&quot;: {&quot;MESH1_ID&quot;: 5033, &quot;MESH2_ID&quot;: 503324, &quot;MESH3_ID&quot;: 50332433, &quot;MESH4_ID&quot;: 503324334, &quot;OBJECTID&quot;: 1569736, &quot;Shape_Area&quot;: 2.60416703096e-05, &quot;Shape_Leng&quot;: 0.0208333347905, &quot;age&quot;: -1, &quot;area&quot;: 503324334, &quot;date&quot;: 20220328, &quot;gender&quot;: -1, &quot;population&quot;: 271, &quot;residence&quot;: -1, &quot;time&quot;: 0}, &quot;type&quot;: &quot;Feature&quot;}, {&quot;bbox&quot;: [133.55000000029975, 33.52916666660837, 133.55624999983752, 33.533333333566475], &quot;geometry&quot;: {&quot;coordinates&quot;: [[[[133.55000000029975, 33.533333333566475], [133.55624999983752, 33.533333333566475], [133.55624999983752, 33.529166666608376], [133.55000000029975, 33.52916666660837], [133.55000000029975, 33.533333333566475]]]], &quot;type&quot;: &quot;MultiPolygon&quot;}, &quot;id&quot;: &quot;4&quot;, &quot;properties&quot;: {&quot;MESH1_ID&quot;: 5033, &quot;MESH2_ID&quot;: 503324, &quot;MESH3_ID&quot;: 50332434, &quot;MESH4_ID&quot;: 503324343, &quot;OBJECTID&quot;: 1569739, &quot;Shape_Area&quot;: 2.60416665622e-05, &quot;Shape_Leng&quot;: 0.0208333329917, &quot;age&quot;: -1, &quot;area&quot;: 503324343, &quot;date&quot;: 20220328, &quot;gender&quot;: -1, &quot;population&quot;: 56, &quot;residence&quot;: -1, &quot;time&quot;: 0}, &quot;type&quot;: &quot;Feature&quot;}, {&quot;bbox&quot;: [133.55624999983752, 33.529166666608376, 133.56250000027478, 33.533333333566475], &quot;geometry&quot;: {&quot;coordinates&quot;: [[[[133.55624999983752, 33.533333333566475], [133.56250000027478, 33.533333333566475], [133.56250000027478, 33.52916666660838], [133.55624999983752, 33.529166666608376], [133.55624999983752, 33.533333333566475]]]], &quot;type&quot;: &quot;MultiPolygon&quot;}, &quot;id&quot;: &quot;5&quot;, &quot;properties&quot;: {&quot;MESH1_ID&quot;: 5033, &quot;MESH2_ID&quot;: 503324, &quot;MESH3_ID&quot;: 50332434, &quot;MESH4_ID&quot;: 503324344, &quot;OBJECTID&quot;: 1569740, &quot;Shape_Area&quot;: 2.604167031e-05, &quot;Shape_Leng&quot;: 0.0208333347907, &quot;age&quot;: -1, &quot;area&quot;: 503324344, &quot;date&quot;: 20220328, &quot;gender&quot;: -1, &quot;population&quot;: 42, &quot;residence&quot;: -1, &quot;time&quot;: 0}, &quot;type&quot;: &quot;Feature&quot;}, {&quot;bbox&quot;: [133.51874999991253, 33.533333333566475, 133.52500000034968, 33.53749999962526], &quot;geometry&quot;: {&quot;coordinates&quot;: [[[[133.51874999991253, 33.53749999962525], [133.52500000034968, 33.53749999962526], [133.52500000034968, 33.533333333566475], [133.51874999991253, 33.533333333566475], [133.51874999991253, 33.53749999962525]]]], &quot;type&quot;: &quot;MultiPolygon&quot;}, &quot;id&quot;: &quot;6&quot;, &quot;properties&quot;: {&quot;MESH1_ID&quot;: 5033, &quot;MESH2_ID&quot;: 503324, &quot;MESH3_ID&quot;: 50332441, &quot;MESH4_ID&quot;: 503324412, &quot;OBJECTID&quot;: 1569766, &quot;Shape_Area&quot;: 2.60416646888e-05, &quot;Shape_Leng&quot;: 0.0208333329919, &quot;age&quot;: -1, &quot;area&quot;: 503324412, &quot;date&quot;: 20220328, &quot;gender&quot;: -1, &quot;population&quot;: 198, &quot;residence&quot;: -1, &quot;time&quot;: 0}, &quot;type&quot;: &quot;Feature&quot;}, {&quot;bbox&quot;: [133.51874999991253, 33.53749999962525, 133.52500000034968, 33.54166666658335], &quot;geometry&quot;: {&quot;coordinates&quot;: [[[[133.51874999991253, 33.54166666658335], [133.52500000034968, 33.54166666658335], [133.52500000034968, 33.53749999962526], [133.51874999991253, 33.53749999962525], [133.51874999991253, 33.54166666658335]]]], &quot;type&quot;: &quot;MultiPolygon&quot;}, &quot;id&quot;: &quot;7&quot;, &quot;properties&quot;: {&quot;MESH1_ID&quot;: 5033, &quot;MESH2_ID&quot;: 503324, &quot;MESH3_ID&quot;: 50332441, &quot;MESH4_ID&quot;: 503324414, &quot;OBJECTID&quot;: 1569768, &quot;Shape_Area&quot;: 2.60416703096e-05, &quot;Shape_Leng&quot;: 0.0208333347905, &quot;age&quot;: -1, &quot;area&quot;: 503324414, &quot;date&quot;: 20220328, &quot;gender&quot;: -1, &quot;population&quot;: 569, &quot;residence&quot;: -1, &quot;time&quot;: 0}, &quot;type&quot;: &quot;Feature&quot;}, {&quot;bbox&quot;: [133.52500000034968, 33.53333333356646, 133.53124999988756, 33.53749999962526], &quot;geometry&quot;: {&quot;coordinates&quot;: [[[[133.52500000034968, 33.53749999962526], [133.53124999988756, 33.537499999625254], [133.53124999988756, 33.53333333356646], [133.52500000034968, 33.533333333566475], [133.52500000034968, 33.53749999962526]]]], &quot;type&quot;: &quot;MultiPolygon&quot;}, &quot;id&quot;: &quot;8&quot;, &quot;properties&quot;: {&quot;MESH1_ID&quot;: 5033, &quot;MESH2_ID&quot;: 503324, &quot;MESH3_ID&quot;: 50332442, &quot;MESH4_ID&quot;: 503324421, &quot;OBJECTID&quot;: 1569769, &quot;Shape_Area&quot;: 2.60416609419e-05, &quot;Shape_Leng&quot;: 0.0208333311933, &quot;age&quot;: -1, &quot;area&quot;: 503324421, &quot;date&quot;: 20220328, &quot;gender&quot;: -1, &quot;population&quot;: 64, &quot;residence&quot;: -1, &quot;time&quot;: 0}, &quot;type&quot;: &quot;Feature&quot;}, {&quot;bbox&quot;: [133.53124999988756, 33.53333333356646, 133.5375000003247, 33.537499999625254], &quot;geometry&quot;: {&quot;coordinates&quot;: [[[[133.53124999988756, 33.537499999625254], [133.5375000003247, 33.537499999625254], [133.5375000003247, 33.53333333356647], [133.53124999988756, 33.53333333356646], [133.53124999988756, 33.537499999625254]]]], &quot;type&quot;: &quot;MultiPolygon&quot;}, &quot;id&quot;: &quot;9&quot;, &quot;properties&quot;: {&quot;MESH1_ID&quot;: 5033, &quot;MESH2_ID&quot;: 503324, &quot;MESH3_ID&quot;: 50332442, &quot;MESH4_ID&quot;: 503324422, &quot;OBJECTID&quot;: 1569770, &quot;Shape_Area&quot;: 2.60416646888e-05, &quot;Shape_Leng&quot;: 0.0208333329919, &quot;age&quot;: -1, &quot;area&quot;: 503324422, &quot;date&quot;: 20220328, &quot;gender&quot;: -1, &quot;population&quot;: 58, &quot;residence&quot;: -1, &quot;time&quot;: 0}, &quot;type&quot;: &quot;Feature&quot;}, {&quot;bbox&quot;: [133.52500000034968, 33.537499999625254, 133.53124999988756, 33.54166666658335], &quot;geometry&quot;: {&quot;coordinates&quot;: [[[[133.52500000034968, 33.54166666658335], [133.53124999988756, 33.54166666658335], [133.53124999988756, 33.537499999625254], [133.52500000034968, 33.53749999962526], [133.52500000034968, 33.54166666658335]]]], &quot;type&quot;: &quot;MultiPolygon&quot;}, &quot;id&quot;: &quot;10&quot;, &quot;properties&quot;: {&quot;MESH1_ID&quot;: 5033, &quot;MESH2_ID&quot;: 503324, &quot;MESH3_ID&quot;: 50332442, &quot;MESH4_ID&quot;: 503324423, &quot;OBJECTID&quot;: 1569771, &quot;Shape_Area&quot;: 2.60416665626e-05, &quot;Shape_Leng&quot;: 0.020833332992, &quot;age&quot;: -1, &quot;area&quot;: 503324423, &quot;date&quot;: 20220328, &quot;gender&quot;: -1, &quot;population&quot;: 91, &quot;residence&quot;: -1, &quot;time&quot;: 0}, &quot;type&quot;: &quot;Feature&quot;}, {&quot;bbox&quot;: [133.53124999988756, 33.537499999625254, 133.5375000003247, 33.54166666658335], &quot;geometry&quot;: {&quot;coordinates&quot;: [[[[133.53124999988756, 33.54166666658335], [133.5375000003247, 33.54166666658335], [133.5375000003247, 33.537499999625254], [133.53124999988756, 33.537499999625254], [133.53124999988756, 33.54166666658335]]]], &quot;type&quot;: &quot;MultiPolygon&quot;}, &quot;id&quot;: &quot;11&quot;, &quot;properties&quot;: {&quot;MESH1_ID&quot;: 5033, &quot;MESH2_ID&quot;: 503324, &quot;MESH3_ID&quot;: 50332442, &quot;MESH4_ID&quot;: 503324424, &quot;OBJECTID&quot;: 1569772, &quot;Shape_Area&quot;: 2.60416703096e-05, &quot;Shape_Leng&quot;: 0.0208333347905, &quot;age&quot;: -1, &quot;area&quot;: 503324424, &quot;date&quot;: 20220328, &quot;gender&quot;: -1, &quot;population&quot;: 308, &quot;residence&quot;: -1, &quot;time&quot;: 0}, &quot;type&quot;: &quot;Feature&quot;}, {&quot;bbox&quot;: [133.5375000003247, 33.53333333356647, 133.5437499998626, 33.53749999962526], &quot;geometry&quot;: {&quot;coordinates&quot;: [[[[133.5375000003247, 33.537499999625254], [133.5437499998626, 33.53749999962526], [133.5437499998626, 33.53333333356647], [133.5375000003247, 33.53333333356647], [133.5375000003247, 33.537499999625254]]]], &quot;type&quot;: &quot;MultiPolygon&quot;}, &quot;id&quot;: &quot;12&quot;, &quot;properties&quot;: {&quot;MESH1_ID&quot;: 5033, &quot;MESH2_ID&quot;: 503324, &quot;MESH3_ID&quot;: 50332443, &quot;MESH4_ID&quot;: 503324431, &quot;OBJECTID&quot;: 1569773, &quot;Shape_Area&quot;: 2.60416609419e-05, &quot;Shape_Leng&quot;: 0.0208333311933, &quot;age&quot;: -1, &quot;area&quot;: 503324431, &quot;date&quot;: 20220328, &quot;gender&quot;: -1, &quot;population&quot;: 651, &quot;residence&quot;: -1, &quot;time&quot;: 0}, &quot;type&quot;: &quot;Feature&quot;}, {&quot;bbox&quot;: [133.5437499998626, 33.53333333356647, 133.55000000029975, 33.53749999962526], &quot;geometry&quot;: {&quot;coordinates&quot;: [[[[133.5437499998626, 33.53749999962526], [133.55000000029975, 33.53749999962526], [133.55000000029975, 33.533333333566475], [133.5437499998626, 33.53333333356647], [133.5437499998626, 33.53749999962526]]]], &quot;type&quot;: &quot;MultiPolygon&quot;}, &quot;id&quot;: &quot;13&quot;, &quot;properties&quot;: {&quot;MESH1_ID&quot;: 5033, &quot;MESH2_ID&quot;: 503324, &quot;MESH3_ID&quot;: 50332443, &quot;MESH4_ID&quot;: 503324432, &quot;OBJECTID&quot;: 1569774, &quot;Shape_Area&quot;: 2.60416646888e-05, &quot;Shape_Leng&quot;: 0.0208333329919, &quot;age&quot;: -1, &quot;area&quot;: 503324432, &quot;date&quot;: 20220328, &quot;gender&quot;: -1, &quot;population&quot;: 299, &quot;residence&quot;: -1, &quot;time&quot;: 0}, &quot;type&quot;: &quot;Feature&quot;}, {&quot;bbox&quot;: [133.5375000003247, 33.537499999625254, 133.5437499998626, 33.54166666658335], &quot;geometry&quot;: {&quot;coordinates&quot;: [[[[133.5375000003247, 33.54166666658335], [133.5437499998626, 33.541666666583346], [133.5437499998626, 33.53749999962526], [133.5375000003247, 33.537499999625254], [133.5375000003247, 33.54166666658335]]]], &quot;type&quot;: &quot;MultiPolygon&quot;}, &quot;id&quot;: &quot;14&quot;, &quot;properties&quot;: {&quot;MESH1_ID&quot;: 5033, &quot;MESH2_ID&quot;: 503324, &quot;MESH3_ID&quot;: 50332443, &quot;MESH4_ID&quot;: 503324433, &quot;OBJECTID&quot;: 1569775, &quot;Shape_Area&quot;: 2.60416665626e-05, &quot;Shape_Leng&quot;: 0.020833332992, &quot;age&quot;: -1, &quot;area&quot;: 503324433, &quot;date&quot;: 20220328, &quot;gender&quot;: -1, &quot;population&quot;: 944, &quot;residence&quot;: -1, &quot;time&quot;: 0}, &quot;type&quot;: &quot;Feature&quot;}, {&quot;bbox&quot;: [133.5437499998626, 33.53749999962526, 133.55000000029975, 33.54166666658335], &quot;geometry&quot;: {&quot;coordinates&quot;: [[[[133.5437499998626, 33.541666666583346], [133.55000000029975, 33.54166666658335], [133.55000000029975, 33.53749999962526], [133.5437499998626, 33.53749999962526], [133.5437499998626, 33.541666666583346]]]], &quot;type&quot;: &quot;MultiPolygon&quot;}, &quot;id&quot;: &quot;15&quot;, &quot;properties&quot;: {&quot;MESH1_ID&quot;: 5033, &quot;MESH2_ID&quot;: 503324, &quot;MESH3_ID&quot;: 50332443, &quot;MESH4_ID&quot;: 503324434, &quot;OBJECTID&quot;: 1569776, &quot;Shape_Area&quot;: 2.60416703096e-05, &quot;Shape_Leng&quot;: 0.0208333347905, &quot;age&quot;: -1, &quot;area&quot;: 503324434, &quot;date&quot;: 20220328, &quot;gender&quot;: -1, &quot;population&quot;: 600, &quot;residence&quot;: -1, &quot;time&quot;: 0}, &quot;type&quot;: &quot;Feature&quot;}, {&quot;bbox&quot;: [133.55000000029975, 33.533333333566475, 133.55624999983752, 33.53749999962526], &quot;geometry&quot;: {&quot;coordinates&quot;: [[[[133.55000000029975, 33.53749999962526], [133.55624999983752, 33.537499999625254], [133.55624999983752, 33.533333333566475], [133.55000000029975, 33.533333333566475], [133.55000000029975, 33.53749999962526]]]], &quot;type&quot;: &quot;MultiPolygon&quot;}, &quot;id&quot;: &quot;16&quot;, &quot;properties&quot;: {&quot;MESH1_ID&quot;: 5033, &quot;MESH2_ID&quot;: 503324, &quot;MESH3_ID&quot;: 50332444, &quot;MESH4_ID&quot;: 503324441, &quot;OBJECTID&quot;: 1569777, &quot;Shape_Area&quot;: 2.60416609414e-05, &quot;Shape_Leng&quot;: 0.0208333311931, &quot;age&quot;: -1, &quot;area&quot;: 503324441, &quot;date&quot;: 20220328, &quot;gender&quot;: -1, &quot;population&quot;: 75, &quot;residence&quot;: -1, &quot;time&quot;: 0}, &quot;type&quot;: &quot;Feature&quot;}, {&quot;bbox&quot;: [133.55624999983752, 33.533333333566475, 133.56250000027478, 33.53749999962526], &quot;geometry&quot;: {&quot;coordinates&quot;: [[[[133.55624999983752, 33.537499999625254], [133.56250000027478, 33.53749999962526], [133.56250000027478, 33.533333333566475], [133.55624999983752, 33.533333333566475], [133.55624999983752, 33.537499999625254]]]], &quot;type&quot;: &quot;MultiPolygon&quot;}, &quot;id&quot;: &quot;17&quot;, &quot;properties&quot;: {&quot;MESH1_ID&quot;: 5033, &quot;MESH2_ID&quot;: 503324, &quot;MESH3_ID&quot;: 50332444, &quot;MESH4_ID&quot;: 503324442, &quot;OBJECTID&quot;: 1569778, &quot;Shape_Area&quot;: 2.60416646893e-05, &quot;Shape_Leng&quot;: 0.0208333329921, &quot;age&quot;: -1, &quot;area&quot;: 503324442, &quot;date&quot;: 20220328, &quot;gender&quot;: -1, &quot;population&quot;: 61, &quot;residence&quot;: -1, &quot;time&quot;: 0}, &quot;type&quot;: &quot;Feature&quot;}, {&quot;bbox&quot;: [133.55000000029975, 33.537499999625254, 133.55624999983752, 33.54166666658335], &quot;geometry&quot;: {&quot;coordinates&quot;: [[[[133.55000000029975, 33.54166666658335], [133.55624999983752, 33.541666666583346], [133.55624999983752, 33.537499999625254], [133.55000000029975, 33.53749999962526], [133.55000000029975, 33.54166666658335]]]], &quot;type&quot;: &quot;MultiPolygon&quot;}, &quot;id&quot;: &quot;18&quot;, &quot;properties&quot;: {&quot;MESH1_ID&quot;: 5033, &quot;MESH2_ID&quot;: 503324, &quot;MESH3_ID&quot;: 50332444, &quot;MESH4_ID&quot;: 503324443, &quot;OBJECTID&quot;: 1569779, &quot;Shape_Area&quot;: 2.60416665622e-05, &quot;Shape_Leng&quot;: 0.0208333329917, &quot;age&quot;: -1, &quot;area&quot;: 503324443, &quot;date&quot;: 20220328, &quot;gender&quot;: -1, &quot;population&quot;: 165, &quot;residence&quot;: -1, &quot;time&quot;: 0}, &quot;type&quot;: &quot;Feature&quot;}, {&quot;bbox&quot;: [133.55624999983752, 33.537499999625254, 133.56250000027478, 33.54166666658335], &quot;geometry&quot;: {&quot;coordinates&quot;: [[[[133.55624999983752, 33.541666666583346], [133.56250000027478, 33.54166666658335], [133.56250000027478, 33.53749999962526], [133.55624999983752, 33.537499999625254], [133.55624999983752, 33.541666666583346]]]], &quot;type&quot;: &quot;MultiPolygon&quot;}, &quot;id&quot;: &quot;19&quot;, &quot;properties&quot;: {&quot;MESH1_ID&quot;: 5033, &quot;MESH2_ID&quot;: 503324, &quot;MESH3_ID&quot;: 50332444, &quot;MESH4_ID&quot;: 503324444, &quot;OBJECTID&quot;: 1569780, &quot;Shape_Area&quot;: 2.604167031e-05, &quot;Shape_Leng&quot;: 0.0208333347907, &quot;age&quot;: -1, &quot;area&quot;: 503324444, &quot;date&quot;: 20220328, &quot;gender&quot;: -1, &quot;population&quot;: 104, &quot;residence&quot;: -1, &quot;time&quot;: 0}, &quot;type&quot;: &quot;Feature&quot;}, {&quot;bbox&quot;: [133.51874999991253, 33.54166666658335, 133.52500000034968, 33.54583333354151], &quot;geometry&quot;: {&quot;coordinates&quot;: [[[[133.51874999991253, 33.54583333354151], [133.52500000034968, 33.54583333354151], [133.52500000034968, 33.54166666658335], [133.51874999991253, 33.54166666658335], [133.51874999991253, 33.54583333354151]]]], &quot;type&quot;: &quot;MultiPolygon&quot;}, &quot;id&quot;: &quot;20&quot;, &quot;properties&quot;: {&quot;MESH1_ID&quot;: 5033, &quot;MESH2_ID&quot;: 503324, &quot;MESH3_ID&quot;: 50332451, &quot;MESH4_ID&quot;: 503324512, &quot;OBJECTID&quot;: 1569806, &quot;Shape_Area&quot;: 2.60416703099e-05, &quot;Shape_Leng&quot;: 0.0208333347906, &quot;age&quot;: -1, &quot;area&quot;: 503324512, &quot;date&quot;: 20220328, &quot;gender&quot;: -1, &quot;population&quot;: 790, &quot;residence&quot;: -1, &quot;time&quot;: 0}, &quot;type&quot;: &quot;Feature&quot;}, {&quot;bbox&quot;: [133.51874999991253, 33.54583333354151, 133.52500000034968, 33.549999999600296], &quot;geometry&quot;: {&quot;coordinates&quot;: [[[[133.51874999991253, 33.549999999600296], [133.52500000034968, 33.54999999960028], [133.52500000034968, 33.54583333354151], [133.51874999991253, 33.54583333354151], [133.51874999991253, 33.549999999600296]]]], &quot;type&quot;: &quot;MultiPolygon&quot;}, &quot;id&quot;: &quot;21&quot;, &quot;properties&quot;: {&quot;MESH1_ID&quot;: 5033, &quot;MESH2_ID&quot;: 503324, &quot;MESH3_ID&quot;: 50332451, &quot;MESH4_ID&quot;: 503324514, &quot;OBJECTID&quot;: 1569808, &quot;Shape_Area&quot;: 2.60416646888e-05, &quot;Shape_Leng&quot;: 0.0208333329919, &quot;age&quot;: -1, &quot;area&quot;: 503324514, &quot;date&quot;: 20220328, &quot;gender&quot;: -1, &quot;population&quot;: 892, &quot;residence&quot;: -1, &quot;time&quot;: 0}, &quot;type&quot;: &quot;Feature&quot;}, {&quot;bbox&quot;: [133.52500000034968, 33.54166666658335, 133.53124999988756, 33.54583333354151], &quot;geometry&quot;: {&quot;coordinates&quot;: [[[[133.52500000034968, 33.54583333354151], [133.53124999988756, 33.5458333335415], [133.53124999988756, 33.54166666658335], [133.52500000034968, 33.54166666658335], [133.52500000034968, 33.54583333354151]]]], &quot;type&quot;: &quot;MultiPolygon&quot;}, &quot;id&quot;: &quot;22&quot;, &quot;properties&quot;: {&quot;MESH1_ID&quot;: 5033, &quot;MESH2_ID&quot;: 503324, &quot;MESH3_ID&quot;: 50332452, &quot;MESH4_ID&quot;: 503324521, &quot;OBJECTID&quot;: 1569809, &quot;Shape_Area&quot;: 2.6041666563e-05, &quot;Shape_Leng&quot;: 0.0208333329921, &quot;age&quot;: -1, &quot;area&quot;: 503324521, &quot;date&quot;: 20220328, &quot;gender&quot;: -1, &quot;population&quot;: 47, &quot;residence&quot;: -1, &quot;time&quot;: 0}, &quot;type&quot;: &quot;Feature&quot;}, {&quot;bbox&quot;: [133.53124999988756, 33.54166666658335, 133.5375000003247, 33.54583333354151], &quot;geometry&quot;: {&quot;coordinates&quot;: [[[[133.53124999988756, 33.5458333335415], [133.5375000003247, 33.54583333354151], [133.5375000003247, 33.54166666658335], [133.53124999988756, 33.54166666658335], [133.53124999988756, 33.5458333335415]]]], &quot;type&quot;: &quot;MultiPolygon&quot;}, &quot;id&quot;: &quot;23&quot;, &quot;properties&quot;: {&quot;MESH1_ID&quot;: 5033, &quot;MESH2_ID&quot;: 503324, &quot;MESH3_ID&quot;: 50332452, &quot;MESH4_ID&quot;: 503324522, &quot;OBJECTID&quot;: 1569810, &quot;Shape_Area&quot;: 2.60416703099e-05, &quot;Shape_Leng&quot;: 0.0208333347906, &quot;age&quot;: -1, &quot;area&quot;: 503324522, &quot;date&quot;: 20220328, &quot;gender&quot;: -1, &quot;population&quot;: 431, &quot;residence&quot;: -1, &quot;time&quot;: 0}, &quot;type&quot;: &quot;Feature&quot;}, {&quot;bbox&quot;: [133.52500000034968, 33.5458333335415, 133.53124999988756, 33.54999999960029], &quot;geometry&quot;: {&quot;coordinates&quot;: [[[[133.52500000034968, 33.54999999960028], [133.53124999988756, 33.54999999960029], [133.53124999988756, 33.5458333335415], [133.52500000034968, 33.54583333354151], [133.52500000034968, 33.54999999960028]]]], &quot;type&quot;: &quot;MultiPolygon&quot;}, &quot;id&quot;: &quot;24&quot;, &quot;properties&quot;: {&quot;MESH1_ID&quot;: 5033, &quot;MESH2_ID&quot;: 503324, &quot;MESH3_ID&quot;: 50332452, &quot;MESH4_ID&quot;: 503324523, &quot;OBJECTID&quot;: 1569811, &quot;Shape_Area&quot;: 2.60416609419e-05, &quot;Shape_Leng&quot;: 0.0208333311933, &quot;age&quot;: -1, &quot;area&quot;: 503324523, &quot;date&quot;: 20220328, &quot;gender&quot;: -1, &quot;population&quot;: 333, &quot;residence&quot;: -1, &quot;time&quot;: 0}, &quot;type&quot;: &quot;Feature&quot;}, {&quot;bbox&quot;: [133.53124999988756, 33.5458333335415, 133.5375000003247, 33.549999999600296], &quot;geometry&quot;: {&quot;coordinates&quot;: [[[[133.53124999988756, 33.54999999960029], [133.5375000003247, 33.549999999600296], [133.5375000003247, 33.54583333354151], [133.53124999988756, 33.5458333335415], [133.53124999988756, 33.54999999960029]]]], &quot;type&quot;: &quot;MultiPolygon&quot;}, &quot;id&quot;: &quot;25&quot;, &quot;properties&quot;: {&quot;MESH1_ID&quot;: 5033, &quot;MESH2_ID&quot;: 503324, &quot;MESH3_ID&quot;: 50332452, &quot;MESH4_ID&quot;: 503324524, &quot;OBJECTID&quot;: 1569812, &quot;Shape_Area&quot;: 2.60416646888e-05, &quot;Shape_Leng&quot;: 0.0208333329919, &quot;age&quot;: -1, &quot;area&quot;: 503324524, &quot;date&quot;: 20220328, &quot;gender&quot;: -1, &quot;population&quot;: 242, &quot;residence&quot;: -1, &quot;time&quot;: 0}, &quot;type&quot;: &quot;Feature&quot;}, {&quot;bbox&quot;: [133.5375000003247, 33.541666666583346, 133.5437499998626, 33.54583333354151], &quot;geometry&quot;: {&quot;coordinates&quot;: [[[[133.5375000003247, 33.54583333354151], [133.5437499998626, 33.54583333354151], [133.5437499998626, 33.541666666583346], [133.5375000003247, 33.54166666658335], [133.5375000003247, 33.54583333354151]]]], &quot;type&quot;: &quot;MultiPolygon&quot;}, &quot;id&quot;: &quot;26&quot;, &quot;properties&quot;: {&quot;MESH1_ID&quot;: 5033, &quot;MESH2_ID&quot;: 503324, &quot;MESH3_ID&quot;: 50332453, &quot;MESH4_ID&quot;: 503324531, &quot;OBJECTID&quot;: 1569813, &quot;Shape_Area&quot;: 2.6041666563e-05, &quot;Shape_Leng&quot;: 0.0208333329921, &quot;age&quot;: -1, &quot;area&quot;: 503324531, &quot;date&quot;: 20220328, &quot;gender&quot;: -1, &quot;population&quot;: 1871, &quot;residence&quot;: -1, &quot;time&quot;: 0}, &quot;type&quot;: &quot;Feature&quot;}, {&quot;bbox&quot;: [133.5437499998626, 33.541666666583346, 133.55000000029975, 33.54583333354151], &quot;geometry&quot;: {&quot;coordinates&quot;: [[[[133.5437499998626, 33.54583333354151], [133.55000000029975, 33.54583333354151], [133.55000000029975, 33.54166666658335], [133.5437499998626, 33.541666666583346], [133.5437499998626, 33.54583333354151]]]], &quot;type&quot;: &quot;MultiPolygon&quot;}, &quot;id&quot;: &quot;27&quot;, &quot;properties&quot;: {&quot;MESH1_ID&quot;: 5033, &quot;MESH2_ID&quot;: 503324, &quot;MESH3_ID&quot;: 50332453, &quot;MESH4_ID&quot;: 503324532, &quot;OBJECTID&quot;: 1569814, &quot;Shape_Area&quot;: 2.60416703099e-05, &quot;Shape_Leng&quot;: 0.0208333347906, &quot;age&quot;: -1, &quot;area&quot;: 503324532, &quot;date&quot;: 20220328, &quot;gender&quot;: -1, &quot;population&quot;: 1936, &quot;residence&quot;: -1, &quot;time&quot;: 0}, &quot;type&quot;: &quot;Feature&quot;}, {&quot;bbox&quot;: [133.5375000003247, 33.54583333354151, 133.5437499998626, 33.549999999600296], &quot;geometry&quot;: {&quot;coordinates&quot;: [[[[133.5375000003247, 33.549999999600296], [133.5437499998626, 33.54999999960029], [133.5437499998626, 33.54583333354151], [133.5375000003247, 33.54583333354151], [133.5375000003247, 33.549999999600296]]]], &quot;type&quot;: &quot;MultiPolygon&quot;}, &quot;id&quot;: &quot;28&quot;, &quot;properties&quot;: {&quot;MESH1_ID&quot;: 5033, &quot;MESH2_ID&quot;: 503324, &quot;MESH3_ID&quot;: 50332453, &quot;MESH4_ID&quot;: 503324533, &quot;OBJECTID&quot;: 1569815, &quot;Shape_Area&quot;: 2.60416609419e-05, &quot;Shape_Leng&quot;: 0.0208333311933, &quot;age&quot;: -1, &quot;area&quot;: 503324533, &quot;date&quot;: 20220328, &quot;gender&quot;: -1, &quot;population&quot;: 1286, &quot;residence&quot;: -1, &quot;time&quot;: 0}, &quot;type&quot;: &quot;Feature&quot;}, {&quot;bbox&quot;: [133.5437499998626, 33.54583333354151, 133.55000000029975, 33.54999999960029], &quot;geometry&quot;: {&quot;coordinates&quot;: [[[[133.5437499998626, 33.54999999960029], [133.55000000029975, 33.54999999960028], [133.55000000029975, 33.54583333354151], [133.5437499998626, 33.54583333354151], [133.5437499998626, 33.54999999960029]]]], &quot;type&quot;: &quot;MultiPolygon&quot;}, &quot;id&quot;: &quot;29&quot;, &quot;properties&quot;: {&quot;MESH1_ID&quot;: 5033, &quot;MESH2_ID&quot;: 503324, &quot;MESH3_ID&quot;: 50332453, &quot;MESH4_ID&quot;: 503324534, &quot;OBJECTID&quot;: 1569816, &quot;Shape_Area&quot;: 2.60416646888e-05, &quot;Shape_Leng&quot;: 0.0208333329919, &quot;age&quot;: -1, &quot;area&quot;: 503324534, &quot;date&quot;: 20220328, &quot;gender&quot;: -1, &quot;population&quot;: 1398, &quot;residence&quot;: -1, &quot;time&quot;: 0}, &quot;type&quot;: &quot;Feature&quot;}, {&quot;bbox&quot;: [133.55000000029975, 33.541666666583346, 133.55624999983752, 33.545833333541516], &quot;geometry&quot;: {&quot;coordinates&quot;: [[[[133.55000000029975, 33.54583333354151], [133.55624999983752, 33.545833333541516], [133.55624999983752, 33.541666666583346], [133.55000000029975, 33.54166666658335], [133.55000000029975, 33.54583333354151]]]], &quot;type&quot;: &quot;MultiPolygon&quot;}, &quot;id&quot;: &quot;30&quot;, &quot;properties&quot;: {&quot;MESH1_ID&quot;: 5033, &quot;MESH2_ID&quot;: 503324, &quot;MESH3_ID&quot;: 50332454, &quot;MESH4_ID&quot;: 503324541, &quot;OBJECTID&quot;: 1569817, &quot;Shape_Area&quot;: 2.60416665625e-05, &quot;Shape_Leng&quot;: 0.0208333329919, &quot;age&quot;: -1, &quot;area&quot;: 503324541, &quot;date&quot;: 20220328, &quot;gender&quot;: -1, &quot;population&quot;: 589, &quot;residence&quot;: -1, &quot;time&quot;: 0}, &quot;type&quot;: &quot;Feature&quot;}, {&quot;bbox&quot;: [133.55624999983752, 33.541666666583346, 133.56250000027478, 33.545833333541516], &quot;geometry&quot;: {&quot;coordinates&quot;: [[[[133.55624999983752, 33.545833333541516], [133.56250000027478, 33.54583333354151], [133.56250000027478, 33.54166666658335], [133.55624999983752, 33.541666666583346], [133.55624999983752, 33.545833333541516]]]], &quot;type&quot;: &quot;MultiPolygon&quot;}, &quot;id&quot;: &quot;31&quot;, &quot;properties&quot;: {&quot;MESH1_ID&quot;: 5033, &quot;MESH2_ID&quot;: 503324, &quot;MESH3_ID&quot;: 50332454, &quot;MESH4_ID&quot;: 503324542, &quot;OBJECTID&quot;: 1569818, &quot;Shape_Area&quot;: 2.60416703104e-05, &quot;Shape_Leng&quot;: 0.0208333347908, &quot;age&quot;: -1, &quot;area&quot;: 503324542, &quot;date&quot;: 20220328, &quot;gender&quot;: -1, &quot;population&quot;: 36, &quot;residence&quot;: -1, &quot;time&quot;: 0}, &quot;type&quot;: &quot;Feature&quot;}, {&quot;bbox&quot;: [133.55000000029975, 33.54583333354151, 133.55624999983752, 33.54999999960028], &quot;geometry&quot;: {&quot;coordinates&quot;: [[[[133.55000000029975, 33.54999999960028], [133.55624999983752, 33.54999999960028], [133.55624999983752, 33.545833333541516], [133.55000000029975, 33.54583333354151], [133.55000000029975, 33.54999999960028]]]], &quot;type&quot;: &quot;MultiPolygon&quot;}, &quot;id&quot;: &quot;32&quot;, &quot;properties&quot;: {&quot;MESH1_ID&quot;: 5033, &quot;MESH2_ID&quot;: 503324, &quot;MESH3_ID&quot;: 50332454, &quot;MESH4_ID&quot;: 503324543, &quot;OBJECTID&quot;: 1569819, &quot;Shape_Area&quot;: 2.60416609414e-05, &quot;Shape_Leng&quot;: 0.0208333311931, &quot;age&quot;: -1, &quot;area&quot;: 503324543, &quot;date&quot;: 20220328, &quot;gender&quot;: -1, &quot;population&quot;: 901, &quot;residence&quot;: -1, &quot;time&quot;: 0}, &quot;type&quot;: &quot;Feature&quot;}, {&quot;bbox&quot;: [133.55624999983752, 33.54583333354151, 133.56250000027478, 33.54999999960029], &quot;geometry&quot;: {&quot;coordinates&quot;: [[[[133.55624999983752, 33.54999999960028], [133.56250000027478, 33.54999999960029], [133.56250000027478, 33.54583333354151], [133.55624999983752, 33.545833333541516], [133.55624999983752, 33.54999999960028]]]], &quot;type&quot;: &quot;MultiPolygon&quot;}, &quot;id&quot;: &quot;33&quot;, &quot;properties&quot;: {&quot;MESH1_ID&quot;: 5033, &quot;MESH2_ID&quot;: 503324, &quot;MESH3_ID&quot;: 50332454, &quot;MESH4_ID&quot;: 503324544, &quot;OBJECTID&quot;: 1569820, &quot;Shape_Area&quot;: 2.60416646893e-05, &quot;Shape_Leng&quot;: 0.0208333329921, &quot;age&quot;: -1, &quot;area&quot;: 503324544, &quot;date&quot;: 20220328, &quot;gender&quot;: -1, &quot;population&quot;: 237, &quot;residence&quot;: -1, &quot;time&quot;: 0}, &quot;type&quot;: &quot;Feature&quot;}, {&quot;bbox&quot;: [133.56250000027478, 33.54166666658335, 133.56874999981255, 33.54583333354151], &quot;geometry&quot;: {&quot;coordinates&quot;: [[[[133.56250000027478, 33.54583333354151], [133.56874999981255, 33.5458333335415], [133.56874999981255, 33.54166666658335], [133.56250000027478, 33.54166666658335], [133.56250000027478, 33.54583333354151]]]], &quot;type&quot;: &quot;MultiPolygon&quot;}, &quot;id&quot;: &quot;34&quot;, &quot;properties&quot;: {&quot;MESH1_ID&quot;: 5033, &quot;MESH2_ID&quot;: 503324, &quot;MESH3_ID&quot;: 50332455, &quot;MESH4_ID&quot;: 503324551, &quot;OBJECTID&quot;: 1569821, &quot;Shape_Area&quot;: 2.60416665625e-05, &quot;Shape_Leng&quot;: 0.0208333329919, &quot;age&quot;: -1, &quot;area&quot;: 503324551, &quot;date&quot;: 20220328, &quot;gender&quot;: -1, &quot;population&quot;: 135, &quot;residence&quot;: -1, &quot;time&quot;: 0}, &quot;type&quot;: &quot;Feature&quot;}, {&quot;bbox&quot;: [133.56250000027478, 33.5458333335415, 133.56874999981255, 33.54999999960029], &quot;geometry&quot;: {&quot;coordinates&quot;: [[[[133.56250000027478, 33.54999999960029], [133.56874999981255, 33.54999999960029], [133.56874999981255, 33.5458333335415], [133.56250000027478, 33.54583333354151], [133.56250000027478, 33.54999999960029]]]], &quot;type&quot;: &quot;MultiPolygon&quot;}, &quot;id&quot;: &quot;35&quot;, &quot;properties&quot;: {&quot;MESH1_ID&quot;: 5033, &quot;MESH2_ID&quot;: 503324, &quot;MESH3_ID&quot;: 50332455, &quot;MESH4_ID&quot;: 503324553, &quot;OBJECTID&quot;: 1569823, &quot;Shape_Area&quot;: 2.60416609414e-05, &quot;Shape_Leng&quot;: 0.0208333311931, &quot;age&quot;: -1, &quot;area&quot;: 503324553, &quot;date&quot;: 20220328, &quot;gender&quot;: -1, &quot;population&quot;: 144, &quot;residence&quot;: -1, &quot;time&quot;: 0}, &quot;type&quot;: &quot;Feature&quot;}, {&quot;bbox&quot;: [133.51874999991253, 33.54999999960028, 133.52500000034968, 33.55416666655838], &quot;geometry&quot;: {&quot;coordinates&quot;: [[[[133.51874999991253, 33.55416666655838], [133.52500000034968, 33.55416666655838], [133.52500000034968, 33.54999999960028], [133.51874999991253, 33.549999999600296], [133.51874999991253, 33.55416666655838]]]], &quot;type&quot;: &quot;MultiPolygon&quot;}, &quot;id&quot;: &quot;36&quot;, &quot;properties&quot;: {&quot;MESH1_ID&quot;: 5033, &quot;MESH2_ID&quot;: 503324, &quot;MESH3_ID&quot;: 50332461, &quot;MESH4_ID&quot;: 503324612, &quot;OBJECTID&quot;: 1569846, &quot;Shape_Area&quot;: 2.60416703096e-05, &quot;Shape_Leng&quot;: 0.0208333347905, &quot;age&quot;: -1, &quot;area&quot;: 503324612, &quot;date&quot;: 20220328, &quot;gender&quot;: -1, &quot;population&quot;: 1088, &quot;residence&quot;: -1, &quot;time&quot;: 0}, &quot;type&quot;: &quot;Feature&quot;}, {&quot;bbox&quot;: [133.51874999991253, 33.55416666655838, 133.52500000034968, 33.55833333351649], &quot;geometry&quot;: {&quot;coordinates&quot;: [[[[133.51874999991253, 33.55833333351649], [133.52500000034968, 33.55833333351649], [133.52500000034968, 33.55416666655838], [133.51874999991253, 33.55416666655838], [133.51874999991253, 33.55833333351649]]]], &quot;type&quot;: &quot;MultiPolygon&quot;}, &quot;id&quot;: &quot;37&quot;, &quot;properties&quot;: {&quot;MESH1_ID&quot;: 5033, &quot;MESH2_ID&quot;: 503324, &quot;MESH3_ID&quot;: 50332461, &quot;MESH4_ID&quot;: 503324614, &quot;OBJECTID&quot;: 1569848, &quot;Shape_Area&quot;: 2.60416703096e-05, &quot;Shape_Leng&quot;: 0.0208333347905, &quot;age&quot;: -1, &quot;area&quot;: 503324614, &quot;date&quot;: 20220328, &quot;gender&quot;: -1, &quot;population&quot;: 1244, &quot;residence&quot;: -1, &quot;time&quot;: 0}, &quot;type&quot;: &quot;Feature&quot;}, {&quot;bbox&quot;: [133.52500000034968, 33.54999999960028, 133.53124999988756, 33.55416666655838], &quot;geometry&quot;: {&quot;coordinates&quot;: [[[[133.52500000034968, 33.55416666655838], [133.53124999988756, 33.55416666655837], [133.53124999988756, 33.54999999960029], [133.52500000034968, 33.54999999960028], [133.52500000034968, 33.55416666655838]]]], &quot;type&quot;: &quot;MultiPolygon&quot;}, &quot;id&quot;: &quot;38&quot;, &quot;properties&quot;: {&quot;MESH1_ID&quot;: 5033, &quot;MESH2_ID&quot;: 503324, &quot;MESH3_ID&quot;: 50332462, &quot;MESH4_ID&quot;: 503324621, &quot;OBJECTID&quot;: 1569849, &quot;Shape_Area&quot;: 2.60416665626e-05, &quot;Shape_Leng&quot;: 0.020833332992, &quot;age&quot;: -1, &quot;area&quot;: 503324621, &quot;date&quot;: 20220328, &quot;gender&quot;: -1, &quot;population&quot;: 730, &quot;residence&quot;: -1, &quot;time&quot;: 0}, &quot;type&quot;: &quot;Feature&quot;}, {&quot;bbox&quot;: [133.53124999988756, 33.54999999960029, 133.5375000003247, 33.55416666655839], &quot;geometry&quot;: {&quot;coordinates&quot;: [[[[133.53124999988756, 33.55416666655837], [133.5375000003247, 33.55416666655839], [133.5375000003247, 33.549999999600296], [133.53124999988756, 33.54999999960029], [133.53124999988756, 33.55416666655837]]]], &quot;type&quot;: &quot;MultiPolygon&quot;}, &quot;id&quot;: &quot;39&quot;, &quot;properties&quot;: {&quot;MESH1_ID&quot;: 5033, &quot;MESH2_ID&quot;: 503324, &quot;MESH3_ID&quot;: 50332462, &quot;MESH4_ID&quot;: 503324622, &quot;OBJECTID&quot;: 1569850, &quot;Shape_Area&quot;: 2.60416703096e-05, &quot;Shape_Leng&quot;: 0.0208333347905, &quot;age&quot;: -1, &quot;area&quot;: 503324622, &quot;date&quot;: 20220328, &quot;gender&quot;: -1, &quot;population&quot;: 430, &quot;residence&quot;: -1, &quot;time&quot;: 0}, &quot;type&quot;: &quot;Feature&quot;}, {&quot;bbox&quot;: [133.52500000034968, 33.55416666655837, 133.53124999988756, 33.558333333516494], &quot;geometry&quot;: {&quot;coordinates&quot;: [[[[133.52500000034968, 33.55833333351649], [133.53124999988756, 33.558333333516494], [133.53124999988756, 33.55416666655837], [133.52500000034968, 33.55416666655838], [133.52500000034968, 33.55833333351649]]]], &quot;type&quot;: &quot;MultiPolygon&quot;}, &quot;id&quot;: &quot;40&quot;, &quot;properties&quot;: {&quot;MESH1_ID&quot;: 5033, &quot;MESH2_ID&quot;: 503324, &quot;MESH3_ID&quot;: 50332462, &quot;MESH4_ID&quot;: 503324623, &quot;OBJECTID&quot;: 1569851, &quot;Shape_Area&quot;: 2.60416665626e-05, &quot;Shape_Leng&quot;: 0.020833332992, &quot;age&quot;: -1, &quot;area&quot;: 503324623, &quot;date&quot;: 20220328, &quot;gender&quot;: -1, &quot;population&quot;: 1241, &quot;residence&quot;: -1, &quot;time&quot;: 0}, &quot;type&quot;: &quot;Feature&quot;}, {&quot;bbox&quot;: [133.53124999988756, 33.55416666655837, 133.5375000003247, 33.558333333516494], &quot;geometry&quot;: {&quot;coordinates&quot;: [[[[133.53124999988756, 33.558333333516494], [133.5375000003247, 33.55833333351648], [133.5375000003247, 33.55416666655839], [133.53124999988756, 33.55416666655837], [133.53124999988756, 33.558333333516494]]]], &quot;type&quot;: &quot;MultiPolygon&quot;}, &quot;id&quot;: &quot;41&quot;, &quot;properties&quot;: {&quot;MESH1_ID&quot;: 5033, &quot;MESH2_ID&quot;: 503324, &quot;MESH3_ID&quot;: 50332462, &quot;MESH4_ID&quot;: 503324624, &quot;OBJECTID&quot;: 1569852, &quot;Shape_Area&quot;: 2.60416703096e-05, &quot;Shape_Leng&quot;: 0.0208333347905, &quot;age&quot;: -1, &quot;area&quot;: 503324624, &quot;date&quot;: 20220328, &quot;gender&quot;: -1, &quot;population&quot;: 512, &quot;residence&quot;: -1, &quot;time&quot;: 0}, &quot;type&quot;: &quot;Feature&quot;}, {&quot;bbox&quot;: [133.5375000003247, 33.54999999960029, 133.5437499998626, 33.55416666655839], &quot;geometry&quot;: {&quot;coordinates&quot;: [[[[133.5375000003247, 33.55416666655839], [133.5437499998626, 33.55416666655839], [133.5437499998626, 33.54999999960029], [133.5375000003247, 33.549999999600296], [133.5375000003247, 33.55416666655839]]]], &quot;type&quot;: &quot;MultiPolygon&quot;}, &quot;id&quot;: &quot;42&quot;, &quot;properties&quot;: {&quot;MESH1_ID&quot;: 5033, &quot;MESH2_ID&quot;: 503324, &quot;MESH3_ID&quot;: 50332463, &quot;MESH4_ID&quot;: 503324631, &quot;OBJECTID&quot;: 1569853, &quot;Shape_Area&quot;: 2.60416665626e-05, &quot;Shape_Leng&quot;: 0.020833332992, &quot;age&quot;: -1, &quot;area&quot;: 503324631, &quot;date&quot;: 20220328, &quot;gender&quot;: -1, &quot;population&quot;: 1077, &quot;residence&quot;: -1, &quot;time&quot;: 0}, &quot;type&quot;: &quot;Feature&quot;}, {&quot;bbox&quot;: [133.5437499998626, 33.54999999960028, 133.55000000029975, 33.55416666655839], &quot;geometry&quot;: {&quot;coordinates&quot;: [[[[133.5437499998626, 33.55416666655839], [133.55000000029975, 33.55416666655839], [133.55000000029975, 33.54999999960028], [133.5437499998626, 33.54999999960029], [133.5437499998626, 33.55416666655839]]]], &quot;type&quot;: &quot;MultiPolygon&quot;}, &quot;id&quot;: &quot;43&quot;, &quot;properties&quot;: {&quot;MESH1_ID&quot;: 5033, &quot;MESH2_ID&quot;: 503324, &quot;MESH3_ID&quot;: 50332463, &quot;MESH4_ID&quot;: 503324632, &quot;OBJECTID&quot;: 1569854, &quot;Shape_Area&quot;: 2.60416703096e-05, &quot;Shape_Leng&quot;: 0.0208333347905, &quot;age&quot;: -1, &quot;area&quot;: 503324632, &quot;date&quot;: 20220328, &quot;gender&quot;: -1, &quot;population&quot;: 1784, &quot;residence&quot;: -1, &quot;time&quot;: 0}, &quot;type&quot;: &quot;Feature&quot;}, {&quot;bbox&quot;: [133.5375000003247, 33.55416666655839, 133.5437499998626, 33.55833333351649], &quot;geometry&quot;: {&quot;coordinates&quot;: [[[[133.5375000003247, 33.55833333351648], [133.5437499998626, 33.55833333351649], [133.5437499998626, 33.55416666655839], [133.5375000003247, 33.55416666655839], [133.5375000003247, 33.55833333351648]]]], &quot;type&quot;: &quot;MultiPolygon&quot;}, &quot;id&quot;: &quot;44&quot;, &quot;properties&quot;: {&quot;MESH1_ID&quot;: 5033, &quot;MESH2_ID&quot;: 503324, &quot;MESH3_ID&quot;: 50332463, &quot;MESH4_ID&quot;: 503324633, &quot;OBJECTID&quot;: 1569855, &quot;Shape_Area&quot;: 2.60416665626e-05, &quot;Shape_Leng&quot;: 0.020833332992, &quot;age&quot;: -1, &quot;area&quot;: 503324633, &quot;date&quot;: 20220328, &quot;gender&quot;: -1, &quot;population&quot;: 1546, &quot;residence&quot;: -1, &quot;time&quot;: 0}, &quot;type&quot;: &quot;Feature&quot;}, {&quot;bbox&quot;: [133.5437499998626, 33.55416666655839, 133.55000000029975, 33.55833333351649], &quot;geometry&quot;: {&quot;coordinates&quot;: [[[[133.5437499998626, 33.55833333351649], [133.55000000029975, 33.55833333351649], [133.55000000029975, 33.55416666655839], [133.5437499998626, 33.55416666655839], [133.5437499998626, 33.55833333351649]]]], &quot;type&quot;: &quot;MultiPolygon&quot;}, &quot;id&quot;: &quot;45&quot;, &quot;properties&quot;: {&quot;MESH1_ID&quot;: 5033, &quot;MESH2_ID&quot;: 503324, &quot;MESH3_ID&quot;: 50332463, &quot;MESH4_ID&quot;: 503324634, &quot;OBJECTID&quot;: 1569856, &quot;Shape_Area&quot;: 2.60416703096e-05, &quot;Shape_Leng&quot;: 0.0208333347905, &quot;age&quot;: -1, &quot;area&quot;: 503324634, &quot;date&quot;: 20220328, &quot;gender&quot;: -1, &quot;population&quot;: 1706, &quot;residence&quot;: -1, &quot;time&quot;: 0}, &quot;type&quot;: &quot;Feature&quot;}, {&quot;bbox&quot;: [133.55000000029975, 33.54999999960028, 133.55624999983752, 33.55416666655839], &quot;geometry&quot;: {&quot;coordinates&quot;: [[[[133.55000000029975, 33.55416666655839], [133.55624999983752, 33.55416666655839], [133.55624999983752, 33.54999999960028], [133.55000000029975, 33.54999999960028], [133.55000000029975, 33.55416666655839]]]], &quot;type&quot;: &quot;MultiPolygon&quot;}, &quot;id&quot;: &quot;46&quot;, &quot;properties&quot;: {&quot;MESH1_ID&quot;: 5033, &quot;MESH2_ID&quot;: 503324, &quot;MESH3_ID&quot;: 50332464, &quot;MESH4_ID&quot;: 503324641, &quot;OBJECTID&quot;: 1569857, &quot;Shape_Area&quot;: 2.60416665622e-05, &quot;Shape_Leng&quot;: 0.0208333329917, &quot;age&quot;: -1, &quot;area&quot;: 503324641, &quot;date&quot;: 20220328, &quot;gender&quot;: -1, &quot;population&quot;: 1360, &quot;residence&quot;: -1, &quot;time&quot;: 0}, &quot;type&quot;: &quot;Feature&quot;}, {&quot;bbox&quot;: [133.55624999983752, 33.54999999960028, 133.56250000027478, 33.554166666558395], &quot;geometry&quot;: {&quot;coordinates&quot;: [[[[133.55624999983752, 33.55416666655839], [133.56250000027478, 33.554166666558395], [133.56250000027478, 33.54999999960029], [133.55624999983752, 33.54999999960028], [133.55624999983752, 33.55416666655839]]]], &quot;type&quot;: &quot;MultiPolygon&quot;}, &quot;id&quot;: &quot;47&quot;, &quot;properties&quot;: {&quot;MESH1_ID&quot;: 5033, &quot;MESH2_ID&quot;: 503324, &quot;MESH3_ID&quot;: 50332464, &quot;MESH4_ID&quot;: 503324642, &quot;OBJECTID&quot;: 1569858, &quot;Shape_Area&quot;: 2.604167031e-05, &quot;Shape_Leng&quot;: 0.0208333347907, &quot;age&quot;: -1, &quot;area&quot;: 503324642, &quot;date&quot;: 20220328, &quot;gender&quot;: -1, &quot;population&quot;: 365, &quot;residence&quot;: -1, &quot;time&quot;: 0}, &quot;type&quot;: &quot;Feature&quot;}, {&quot;bbox&quot;: [133.55000000029975, 33.55416666655839, 133.55624999983752, 33.55833333351649], &quot;geometry&quot;: {&quot;coordinates&quot;: [[[[133.55000000029975, 33.55833333351649], [133.55624999983752, 33.55833333351648], [133.55624999983752, 33.55416666655839], [133.55000000029975, 33.55416666655839], [133.55000000029975, 33.55833333351649]]]], &quot;type&quot;: &quot;MultiPolygon&quot;}, &quot;id&quot;: &quot;48&quot;, &quot;properties&quot;: {&quot;MESH1_ID&quot;: 5033, &quot;MESH2_ID&quot;: 503324, &quot;MESH3_ID&quot;: 50332464, &quot;MESH4_ID&quot;: 503324643, &quot;OBJECTID&quot;: 1569859, &quot;Shape_Area&quot;: 2.60416665622e-05, &quot;Shape_Leng&quot;: 0.0208333329917, &quot;age&quot;: -1, &quot;area&quot;: 503324643, &quot;date&quot;: 20220328, &quot;gender&quot;: -1, &quot;population&quot;: 1512, &quot;residence&quot;: -1, &quot;time&quot;: 0}, &quot;type&quot;: &quot;Feature&quot;}, {&quot;bbox&quot;: [133.55624999983752, 33.55416666655839, 133.56250000027478, 33.55833333351648], &quot;geometry&quot;: {&quot;coordinates&quot;: [[[[133.55624999983752, 33.55833333351648], [133.56250000027478, 33.55833333351648], [133.56250000027478, 33.554166666558395], [133.55624999983752, 33.55416666655839], [133.55624999983752, 33.55833333351648]]]], &quot;type&quot;: &quot;MultiPolygon&quot;}, &quot;id&quot;: &quot;49&quot;, &quot;properties&quot;: {&quot;MESH1_ID&quot;: 5033, &quot;MESH2_ID&quot;: 503324, &quot;MESH3_ID&quot;: 50332464, &quot;MESH4_ID&quot;: 503324644, &quot;OBJECTID&quot;: 1569860, &quot;Shape_Area&quot;: 2.604167031e-05, &quot;Shape_Leng&quot;: 0.0208333347907, &quot;age&quot;: -1, &quot;area&quot;: 503324644, &quot;date&quot;: 20220328, &quot;gender&quot;: -1, &quot;population&quot;: 1362, &quot;residence&quot;: -1, &quot;time&quot;: 0}, &quot;type&quot;: &quot;Feature&quot;}, {&quot;bbox&quot;: [133.56250000027478, 33.54999999960029, 133.56874999981255, 33.554166666558395], &quot;geometry&quot;: {&quot;coordinates&quot;: [[[[133.56250000027478, 33.554166666558395], [133.56874999981255, 33.55416666655839], [133.56874999981255, 33.54999999960029], [133.56250000027478, 33.54999999960029], [133.56250000027478, 33.554166666558395]]]], &quot;type&quot;: &quot;MultiPolygon&quot;}, &quot;id&quot;: &quot;50&quot;, &quot;properties&quot;: {&quot;MESH1_ID&quot;: 5033, &quot;MESH2_ID&quot;: 503324, &quot;MESH3_ID&quot;: 50332465, &quot;MESH4_ID&quot;: 503324651, &quot;OBJECTID&quot;: 1569861, &quot;Shape_Area&quot;: 2.60416665622e-05, &quot;Shape_Leng&quot;: 0.0208333329917, &quot;age&quot;: -1, &quot;area&quot;: 503324651, &quot;date&quot;: 20220328, &quot;gender&quot;: -1, &quot;population&quot;: 720, &quot;residence&quot;: -1, &quot;time&quot;: 0}, &quot;type&quot;: &quot;Feature&quot;}, {&quot;bbox&quot;: [133.56250000027478, 33.55416666655839, 133.56874999981255, 33.55833333351648], &quot;geometry&quot;: {&quot;coordinates&quot;: [[[[133.56250000027478, 33.55833333351648], [133.56874999981255, 33.55833333351648], [133.56874999981255, 33.55416666655839], [133.56250000027478, 33.554166666558395], [133.56250000027478, 33.55833333351648]]]], &quot;type&quot;: &quot;MultiPolygon&quot;}, &quot;id&quot;: &quot;51&quot;, &quot;properties&quot;: {&quot;MESH1_ID&quot;: 5033, &quot;MESH2_ID&quot;: 503324, &quot;MESH3_ID&quot;: 50332465, &quot;MESH4_ID&quot;: 503324653, &quot;OBJECTID&quot;: 1569863, &quot;Shape_Area&quot;: 2.60416665622e-05, &quot;Shape_Leng&quot;: 0.0208333329917, &quot;age&quot;: -1, &quot;area&quot;: 503324653, &quot;date&quot;: 20220328, &quot;gender&quot;: -1, &quot;population&quot;: 808, &quot;residence&quot;: -1, &quot;time&quot;: 0}, &quot;type&quot;: &quot;Feature&quot;}, {&quot;bbox&quot;: [133.53124999988756, 33.55833333351648, 133.5375000003247, 33.562499999575316], &quot;geometry&quot;: {&quot;coordinates&quot;: [[[[133.53124999988756, 33.562499999575316], [133.5375000003247, 33.562499999575316], [133.5375000003247, 33.55833333351648], [133.53124999988756, 33.558333333516494], [133.53124999988756, 33.562499999575316]]]], &quot;type&quot;: &quot;MultiPolygon&quot;}, &quot;id&quot;: &quot;52&quot;, &quot;properties&quot;: {&quot;MESH1_ID&quot;: 5033, &quot;MESH2_ID&quot;: 503324, &quot;MESH3_ID&quot;: 50332472, &quot;MESH4_ID&quot;: 503324722, &quot;OBJECTID&quot;: 1569890, &quot;Shape_Area&quot;: 2.60416646892e-05, &quot;Shape_Leng&quot;: 0.020833332992, &quot;age&quot;: -1, &quot;area&quot;: 503324722, &quot;date&quot;: 20220328, &quot;gender&quot;: -1, &quot;population&quot;: 1160, &quot;residence&quot;: -1, &quot;time&quot;: 0}, &quot;type&quot;: &quot;Feature&quot;}, {&quot;bbox&quot;: [133.5375000003247, 33.55833333351648, 133.5437499998626, 33.56249999957532], &quot;geometry&quot;: {&quot;coordinates&quot;: [[[[133.5375000003247, 33.562499999575316], [133.5437499998626, 33.56249999957532], [133.5437499998626, 33.55833333351649], [133.5375000003247, 33.55833333351648], [133.5375000003247, 33.562499999575316]]]], &quot;type&quot;: &quot;MultiPolygon&quot;}, &quot;id&quot;: &quot;53&quot;, &quot;properties&quot;: {&quot;MESH1_ID&quot;: 5033, &quot;MESH2_ID&quot;: 503324, &quot;MESH3_ID&quot;: 50332473, &quot;MESH4_ID&quot;: 503324731, &quot;OBJECTID&quot;: 1569893, &quot;Shape_Area&quot;: 2.60416609423e-05, &quot;Shape_Leng&quot;: 0.0208333311934, &quot;age&quot;: -1, &quot;area&quot;: 503324731, &quot;date&quot;: 20220328, &quot;gender&quot;: -1, &quot;population&quot;: 2317, &quot;residence&quot;: -1, &quot;time&quot;: 0}, &quot;type&quot;: &quot;Feature&quot;}, {&quot;bbox&quot;: [133.5437499998626, 33.55833333351649, 133.55000000029975, 33.56249999957532], &quot;geometry&quot;: {&quot;coordinates&quot;: [[[[133.5437499998626, 33.56249999957532], [133.55000000029975, 33.562499999575316], [133.55000000029975, 33.55833333351649], [133.5437499998626, 33.55833333351649], [133.5437499998626, 33.56249999957532]]]], &quot;type&quot;: &quot;MultiPolygon&quot;}, &quot;id&quot;: &quot;54&quot;, &quot;properties&quot;: {&quot;MESH1_ID&quot;: 5033, &quot;MESH2_ID&quot;: 503324, &quot;MESH3_ID&quot;: 50332473, &quot;MESH4_ID&quot;: 503324732, &quot;OBJECTID&quot;: 1569894, &quot;Shape_Area&quot;: 2.60416646892e-05, &quot;Shape_Leng&quot;: 0.020833332992, &quot;age&quot;: -1, &quot;area&quot;: 503324732, &quot;date&quot;: 20220328, &quot;gender&quot;: -1, &quot;population&quot;: 1534, &quot;residence&quot;: -1, &quot;time&quot;: 0}, &quot;type&quot;: &quot;Feature&quot;}, {&quot;bbox&quot;: [133.55000000029975, 33.55833333351648, 133.55624999983752, 33.56249999957532], &quot;geometry&quot;: {&quot;coordinates&quot;: [[[[133.55000000029975, 33.562499999575316], [133.55624999983752, 33.56249999957532], [133.55624999983752, 33.55833333351648], [133.55000000029975, 33.55833333351649], [133.55000000029975, 33.562499999575316]]]], &quot;type&quot;: &quot;MultiPolygon&quot;}, &quot;id&quot;: &quot;55&quot;, &quot;properties&quot;: {&quot;MESH1_ID&quot;: 5033, &quot;MESH2_ID&quot;: 503324, &quot;MESH3_ID&quot;: 50332474, &quot;MESH4_ID&quot;: 503324741, &quot;OBJECTID&quot;: 1569897, &quot;Shape_Area&quot;: 2.60416609418e-05, &quot;Shape_Leng&quot;: 0.0208333311932, &quot;age&quot;: -1, &quot;area&quot;: 503324741, &quot;date&quot;: 20220328, &quot;gender&quot;: -1, &quot;population&quot;: 1707, &quot;residence&quot;: -1, &quot;time&quot;: 0}, &quot;type&quot;: &quot;Feature&quot;}], &quot;type&quot;: &quot;FeatureCollection&quot;});\n",
       "\n",
       "        \n",
       "    \n",
       "    geo_json_bf22ed4443273a5ec7025c3b5cd67a15.bindTooltip(\n",
       "    function(layer){\n",
       "    let div = L.DomUtil.create(&#x27;div&#x27;);\n",
       "    \n",
       "    let handleObject = feature=&gt;typeof(feature)==&#x27;object&#x27; ? JSON.stringify(feature) : feature;\n",
       "    let fields = [&quot;date&quot;, &quot;time&quot;, &quot;area&quot;, &quot;residence&quot;, &quot;age&quot;, &quot;gender&quot;, &quot;population&quot;, &quot;OBJECTID&quot;, &quot;MESH1_ID&quot;, &quot;MESH2_ID&quot;, &quot;MESH3_ID&quot;, &quot;MESH4_ID&quot;, &quot;Shape_Leng&quot;, &quot;Shape_Area&quot;];\n",
       "    let aliases = [&quot;date&quot;, &quot;time&quot;, &quot;area&quot;, &quot;residence&quot;, &quot;age&quot;, &quot;gender&quot;, &quot;population&quot;, &quot;OBJECTID&quot;, &quot;MESH1_ID&quot;, &quot;MESH2_ID&quot;, &quot;MESH3_ID&quot;, &quot;MESH4_ID&quot;, &quot;Shape_Leng&quot;, &quot;Shape_Area&quot;];\n",
       "    let table = &#x27;&lt;table&gt;&#x27; +\n",
       "        String(\n",
       "        fields.map(\n",
       "        (v,i)=&gt;\n",
       "        `&lt;tr&gt;\n",
       "            &lt;th&gt;${aliases[i]}&lt;/th&gt;\n",
       "            \n",
       "            &lt;td&gt;${handleObject(layer.feature.properties[v])}&lt;/td&gt;\n",
       "        &lt;/tr&gt;`).join(&#x27;&#x27;))\n",
       "    +&#x27;&lt;/table&gt;&#x27;;\n",
       "    div.innerHTML=table;\n",
       "    \n",
       "    return div\n",
       "    }\n",
       "    ,{&quot;className&quot;: &quot;foliumtooltip&quot;, &quot;sticky&quot;: true});\n",
       "                     \n",
       "&lt;/script&gt;\n",
       "&lt;/html&gt;\" style=\"position:absolute;width:100%;height:100%;left:0;top:0;border:none !important;\" allowfullscreen webkitallowfullscreen mozallowfullscreen></iframe></div></div>"
      ],
      "text/plain": [
       "<folium.folium.Map at 0x2c8b38290>"
      ]
     },
     "execution_count": 2,
     "metadata": {},
     "output_type": "execute_result"
    }
   ],
   "source": [
    "meshp.explore()"
   ]
  },
  {
   "attachments": {},
   "cell_type": "markdown",
   "metadata": {},
   "source": [
    "## Find the highest case of weights"
   ]
  },
  {
   "cell_type": "code",
   "execution_count": null,
   "metadata": {},
   "outputs": [],
   "source": [
    "import glob\n",
    "import pandas as pd\n",
    "import numpy as np\n",
    "\n",
    "cases = sorted(glob.glob('quantum/*_Zone-1-60-20/weights/*.csv'))"
   ]
  },
  {
   "cell_type": "code",
   "execution_count": null,
   "metadata": {},
   "outputs": [],
   "source": [
    "df = pd.read_csv(cases[0],names=['link','weight'])\n",
    "w = np.zeros((df.shape[0],2),dtype=np.int16)\n",
    "w[:,0]=df.link"
   ]
  },
  {
   "cell_type": "code",
   "execution_count": null,
   "metadata": {},
   "outputs": [],
   "source": [
    "for case in cases[1:]:\n",
    "    df = pd.read_csv(case,names=['link','weight'])\n",
    "    for i in range(df.shape[0]):\n",
    "        if w[i,1] < df['weight'].iloc[i]:\n",
    "            w[i,1] = df['weight'].iloc[i]"
   ]
  },
  {
   "cell_type": "code",
   "execution_count": null,
   "metadata": {},
   "outputs": [
    {
     "data": {
      "text/html": [
       "<div>\n",
       "<style scoped>\n",
       "    .dataframe tbody tr th:only-of-type {\n",
       "        vertical-align: middle;\n",
       "    }\n",
       "\n",
       "    .dataframe tbody tr th {\n",
       "        vertical-align: top;\n",
       "    }\n",
       "\n",
       "    .dataframe thead th {\n",
       "        text-align: right;\n",
       "    }\n",
       "</style>\n",
       "<table border=\"1\" class=\"dataframe\">\n",
       "  <thead>\n",
       "    <tr style=\"text-align: right;\">\n",
       "      <th></th>\n",
       "      <th>link</th>\n",
       "      <th>weight</th>\n",
       "    </tr>\n",
       "  </thead>\n",
       "  <tbody>\n",
       "    <tr>\n",
       "      <th>0</th>\n",
       "      <td>0</td>\n",
       "      <td>4</td>\n",
       "    </tr>\n",
       "    <tr>\n",
       "      <th>1</th>\n",
       "      <td>1</td>\n",
       "      <td>4</td>\n",
       "    </tr>\n",
       "    <tr>\n",
       "      <th>2</th>\n",
       "      <td>2</td>\n",
       "      <td>2</td>\n",
       "    </tr>\n",
       "    <tr>\n",
       "      <th>3</th>\n",
       "      <td>3</td>\n",
       "      <td>9</td>\n",
       "    </tr>\n",
       "    <tr>\n",
       "      <th>4</th>\n",
       "      <td>4</td>\n",
       "      <td>2</td>\n",
       "    </tr>\n",
       "  </tbody>\n",
       "</table>\n",
       "</div>"
      ],
      "text/plain": [
       "   link  weight\n",
       "0     0       4\n",
       "1     1       4\n",
       "2     2       2\n",
       "3     3       9\n",
       "4     4       2"
      ]
     },
     "metadata": {},
     "output_type": "display_data"
    }
   ],
   "source": [
    "wdf = pd.DataFrame(w,columns=['link','weight'])\n",
    "wdf.head()"
   ]
  },
  {
   "cell_type": "code",
   "execution_count": null,
   "metadata": {},
   "outputs": [
    {
     "name": "stdout",
     "output_type": "stream",
     "text": [
      "weight\n",
      "(-1, 0]       190\n",
      "(0, 1]        816\n",
      "(1, 5]       1871\n",
      "(5, 10]       346\n",
      "(10, 25]      155\n",
      "(25, 50]       40\n",
      "(50, 100]       7\n",
      "dtype: int64\n"
     ]
    }
   ],
   "source": [
    "bins = [-1, 0, 1, 5, 10, 25, 50, 100]\n",
    "s = wdf.groupby(pd.cut(wdf['weight'], bins=bins)).size()\n",
    "print (s)"
   ]
  },
  {
   "cell_type": "code",
   "execution_count": null,
   "metadata": {},
   "outputs": [],
   "source": [
    "wdf.to_csv('acc_weight_Zone-1-60-20.csv',index=False)"
   ]
  },
  {
   "cell_type": "code",
   "execution_count": null,
   "metadata": {},
   "outputs": [],
   "source": []
  },
  {
   "cell_type": "code",
   "execution_count": null,
   "metadata": {},
   "outputs": [],
   "source": []
  },
  {
   "attachments": {},
   "cell_type": "markdown",
   "metadata": {},
   "source": [
    "#### Previous tests (not important)"
   ]
  },
  {
   "cell_type": "code",
   "execution_count": 57,
   "metadata": {},
   "outputs": [],
   "source": [
    "import glob\n",
    "import pandas as pd\n",
    "\n",
    "cases = sorted(glob.glob('quantum/*_Zone-*-60-*/weights/*3591.csv'))"
   ]
  },
  {
   "cell_type": "code",
   "execution_count": 58,
   "metadata": {},
   "outputs": [
    {
     "name": "stdout",
     "output_type": "stream",
     "text": [
      "2695 quantum/1669945931031_Zone-1-60-55/weights/w_100_000003591.csv\n"
     ]
    }
   ],
   "source": [
    "bins = [-1, 0, 1, 5, 10, 25, 50, 100]\n",
    "s_min = 10000\n",
    "case_min = None\n",
    "for case in cases:\n",
    "    df = pd.read_csv(case,names=['node','weight'])\n",
    "    s = df.groupby(pd.cut(df['weight'], bins=bins)).size()\n",
    "    if s[0] < s_min:\n",
    "        s_min = s[0]\n",
    "        case_min = case\n",
    "print(s_min,case_min)"
   ]
  },
  {
   "attachments": {},
   "cell_type": "markdown",
   "metadata": {},
   "source": [
    "1287 quantum/1678014524343_Zone-5-15-1/weights/w_100_000000891.csv  \n",
    "2386 quantum/1669906262746_Zone-1-30-25/weights/w_100_000001791.csv  \n",
    "2695 quantum/1669945931031_Zone-1-60-55/weights/w_100_000003591.csv"
   ]
  },
  {
   "cell_type": "code",
   "execution_count": null,
   "metadata": {},
   "outputs": [
    {
     "name": "stdout",
     "output_type": "stream",
     "text": [
      "2695 quantum/1669945931031_Zone-1-60-55/weights/w_100_000003591.csv\n"
     ]
    }
   ],
   "source": [
    "bins = [-1, 0, 1, 5, 10, 25, 50, 100]\n",
    "s_min = 10000\n",
    "case_min = None\n",
    "for case in cases:\n",
    "    df = pd.read_csv(case,names=['node','weight'])\n",
    "    s = df.groupby(pd.cut(df['weight'], bins=bins)).size()\n",
    "    if s[0] < s_min:\n",
    "        s_min = s[0]\n",
    "        case_min = case\n",
    "print(s_min,case_min)"
   ]
  },
  {
   "cell_type": "code",
   "execution_count": 35,
   "metadata": {},
   "outputs": [],
   "source": [
    "import glob\n",
    "import pandas as pd\n",
    "\n",
    "files15 = sorted(glob.glob('quantum/1669905841775_Zone-1-15-10/weights/*.csv'))\n",
    "files60 = sorted(glob.glob('quantum/1669945424256_Zone-1-60-20/weights/*.csv'))\n",
    "file15_5 = sorted(glob.glob('quantum/1669905766116_Zone-1-15-5/weights/*.csv'))"
   ]
  },
  {
   "cell_type": "code",
   "execution_count": 27,
   "metadata": {},
   "outputs": [
    {
     "data": {
      "text/html": [
       "<div>\n",
       "<style scoped>\n",
       "    .dataframe tbody tr th:only-of-type {\n",
       "        vertical-align: middle;\n",
       "    }\n",
       "\n",
       "    .dataframe tbody tr th {\n",
       "        vertical-align: top;\n",
       "    }\n",
       "\n",
       "    .dataframe thead th {\n",
       "        text-align: right;\n",
       "    }\n",
       "</style>\n",
       "<table border=\"1\" class=\"dataframe\">\n",
       "  <thead>\n",
       "    <tr style=\"text-align: right;\">\n",
       "      <th></th>\n",
       "      <th>node</th>\n",
       "      <th>weight</th>\n",
       "    </tr>\n",
       "  </thead>\n",
       "  <tbody>\n",
       "    <tr>\n",
       "      <th>0</th>\n",
       "      <td>0</td>\n",
       "      <td>1</td>\n",
       "    </tr>\n",
       "    <tr>\n",
       "      <th>1</th>\n",
       "      <td>1</td>\n",
       "      <td>4</td>\n",
       "    </tr>\n",
       "    <tr>\n",
       "      <th>2</th>\n",
       "      <td>2</td>\n",
       "      <td>1</td>\n",
       "    </tr>\n",
       "    <tr>\n",
       "      <th>3</th>\n",
       "      <td>3</td>\n",
       "      <td>0</td>\n",
       "    </tr>\n",
       "    <tr>\n",
       "      <th>4</th>\n",
       "      <td>4</td>\n",
       "      <td>0</td>\n",
       "    </tr>\n",
       "  </tbody>\n",
       "</table>\n",
       "</div>"
      ],
      "text/plain": [
       "   node  weight\n",
       "0     0       1\n",
       "1     1       4\n",
       "2     2       1\n",
       "3     3       0\n",
       "4     4       0"
      ]
     },
     "execution_count": 27,
     "metadata": {},
     "output_type": "execute_result"
    }
   ],
   "source": [
    "df15 = pd.read_csv(files15[-1],names=['node','weight'])\n",
    "df15.head()"
   ]
  },
  {
   "cell_type": "code",
   "execution_count": 28,
   "metadata": {},
   "outputs": [
    {
     "data": {
      "text/html": [
       "<div>\n",
       "<style scoped>\n",
       "    .dataframe tbody tr th:only-of-type {\n",
       "        vertical-align: middle;\n",
       "    }\n",
       "\n",
       "    .dataframe tbody tr th {\n",
       "        vertical-align: top;\n",
       "    }\n",
       "\n",
       "    .dataframe thead th {\n",
       "        text-align: right;\n",
       "    }\n",
       "</style>\n",
       "<table border=\"1\" class=\"dataframe\">\n",
       "  <thead>\n",
       "    <tr style=\"text-align: right;\">\n",
       "      <th></th>\n",
       "      <th>node</th>\n",
       "      <th>weight</th>\n",
       "    </tr>\n",
       "  </thead>\n",
       "  <tbody>\n",
       "    <tr>\n",
       "      <th>0</th>\n",
       "      <td>0</td>\n",
       "      <td>0</td>\n",
       "    </tr>\n",
       "    <tr>\n",
       "      <th>1</th>\n",
       "      <td>1</td>\n",
       "      <td>0</td>\n",
       "    </tr>\n",
       "    <tr>\n",
       "      <th>2</th>\n",
       "      <td>2</td>\n",
       "      <td>0</td>\n",
       "    </tr>\n",
       "    <tr>\n",
       "      <th>3</th>\n",
       "      <td>3</td>\n",
       "      <td>0</td>\n",
       "    </tr>\n",
       "    <tr>\n",
       "      <th>4</th>\n",
       "      <td>4</td>\n",
       "      <td>0</td>\n",
       "    </tr>\n",
       "  </tbody>\n",
       "</table>\n",
       "</div>"
      ],
      "text/plain": [
       "   node  weight\n",
       "0     0       0\n",
       "1     1       0\n",
       "2     2       0\n",
       "3     3       0\n",
       "4     4       0"
      ]
     },
     "execution_count": 28,
     "metadata": {},
     "output_type": "execute_result"
    }
   ],
   "source": [
    "df60 = pd.read_csv(files60[-1],names=['node','weight'])\n",
    "df60.head()"
   ]
  },
  {
   "cell_type": "code",
   "execution_count": 36,
   "metadata": {},
   "outputs": [
    {
     "data": {
      "text/html": [
       "<div>\n",
       "<style scoped>\n",
       "    .dataframe tbody tr th:only-of-type {\n",
       "        vertical-align: middle;\n",
       "    }\n",
       "\n",
       "    .dataframe tbody tr th {\n",
       "        vertical-align: top;\n",
       "    }\n",
       "\n",
       "    .dataframe thead th {\n",
       "        text-align: right;\n",
       "    }\n",
       "</style>\n",
       "<table border=\"1\" class=\"dataframe\">\n",
       "  <thead>\n",
       "    <tr style=\"text-align: right;\">\n",
       "      <th></th>\n",
       "      <th>node</th>\n",
       "      <th>weight</th>\n",
       "    </tr>\n",
       "  </thead>\n",
       "  <tbody>\n",
       "    <tr>\n",
       "      <th>0</th>\n",
       "      <td>0</td>\n",
       "      <td>10</td>\n",
       "    </tr>\n",
       "    <tr>\n",
       "      <th>1</th>\n",
       "      <td>1</td>\n",
       "      <td>0</td>\n",
       "    </tr>\n",
       "    <tr>\n",
       "      <th>2</th>\n",
       "      <td>2</td>\n",
       "      <td>0</td>\n",
       "    </tr>\n",
       "    <tr>\n",
       "      <th>3</th>\n",
       "      <td>3</td>\n",
       "      <td>0</td>\n",
       "    </tr>\n",
       "    <tr>\n",
       "      <th>4</th>\n",
       "      <td>4</td>\n",
       "      <td>0</td>\n",
       "    </tr>\n",
       "  </tbody>\n",
       "</table>\n",
       "</div>"
      ],
      "text/plain": [
       "   node  weight\n",
       "0     0      10\n",
       "1     1       0\n",
       "2     2       0\n",
       "3     3       0\n",
       "4     4       0"
      ]
     },
     "execution_count": 36,
     "metadata": {},
     "output_type": "execute_result"
    }
   ],
   "source": [
    "df15_5 = pd.read_csv(file15_5[-1],names=['node','weight'])\n",
    "df15_5.head()"
   ]
  },
  {
   "cell_type": "code",
   "execution_count": 31,
   "metadata": {},
   "outputs": [
    {
     "name": "stdout",
     "output_type": "stream",
     "text": [
      "weight\n",
      "(-1, 0]      2045\n",
      "(0, 1]        572\n",
      "(1, 5]        506\n",
      "(5, 10]       154\n",
      "(10, 25]       93\n",
      "(25, 50]       41\n",
      "(50, 100]      13\n",
      "dtype: int64\n"
     ]
    }
   ],
   "source": [
    "bins = [-1, 0, 1, 5, 10, 25, 50, 100]\n",
    "s15 = df15.groupby(pd.cut(df15['weight'], bins=bins)).size()\n",
    "print (s15)"
   ]
  },
  {
   "cell_type": "code",
   "execution_count": 46,
   "metadata": {},
   "outputs": [
    {
     "data": {
      "text/plain": [
       "2045"
      ]
     },
     "execution_count": 46,
     "metadata": {},
     "output_type": "execute_result"
    }
   ],
   "source": [
    "s15[0]"
   ]
  },
  {
   "cell_type": "code",
   "execution_count": 32,
   "metadata": {},
   "outputs": [
    {
     "name": "stdout",
     "output_type": "stream",
     "text": [
      "weight\n",
      "(-1, 0]      3358\n",
      "(0, 1]         34\n",
      "(1, 5]         13\n",
      "(5, 10]        10\n",
      "(10, 25]       10\n",
      "(25, 50]        1\n",
      "(50, 100]       0\n",
      "dtype: int64\n"
     ]
    }
   ],
   "source": [
    "bins = [-1, 0, 1, 5, 10, 25, 50, 100]\n",
    "s60 = df60.groupby(pd.cut(df60['weight'], bins=bins)).size()\n",
    "print (s60)"
   ]
  },
  {
   "cell_type": "code",
   "execution_count": 37,
   "metadata": {},
   "outputs": [
    {
     "name": "stdout",
     "output_type": "stream",
     "text": [
      "weight\n",
      "(-1, 0]      2972\n",
      "(0, 1]        188\n",
      "(1, 5]        149\n",
      "(5, 10]        45\n",
      "(10, 25]       48\n",
      "(25, 50]       15\n",
      "(50, 100]       6\n",
      "dtype: int64\n"
     ]
    }
   ],
   "source": [
    "bins = [-1, 0, 1, 5, 10, 25, 50, 100]\n",
    "s15_5 = df15_5.groupby(pd.cut(df15_5['weight'], bins=bins)).size()\n",
    "print (s15_5)"
   ]
  },
  {
   "cell_type": "code",
   "execution_count": 33,
   "metadata": {},
   "outputs": [
    {
     "data": {
      "text/plain": [
       "<AxesSubplot: xlabel='weight'>"
      ]
     },
     "execution_count": 33,
     "metadata": {},
     "output_type": "execute_result"
    },
    {
     "data": {
      "image/png": "[encoded data removed]",
      "text/plain": [
       "<Figure size 640x480 with 1 Axes>"
      ]
     },
     "metadata": {},
     "output_type": "display_data"
    }
   ],
   "source": [
    "s15.plot(kind='bar')"
   ]
  },
  {
   "cell_type": "code",
   "execution_count": 34,
   "metadata": {},
   "outputs": [
    {
     "data": {
      "text/plain": [
       "<AxesSubplot: xlabel='weight'>"
      ]
     },
     "execution_count": 34,
     "metadata": {},
     "output_type": "execute_result"
    },
    {
     "data": {
      "image/png": "[encoded data removed]",
      "text/plain": [
       "<Figure size 640x480 with 1 Axes>"
      ]
     },
     "metadata": {},
     "output_type": "display_data"
    }
   ],
   "source": [
    "s60.plot(kind='bar')"
   ]
  },
  {
   "cell_type": "code",
   "execution_count": 38,
   "metadata": {},
   "outputs": [
    {
     "data": {
      "text/plain": [
       "<AxesSubplot: xlabel='weight'>"
      ]
     },
     "execution_count": 38,
     "metadata": {},
     "output_type": "execute_result"
    },
    {
     "data": {
      "image/png": "[encoded data removed]",
      "text/plain": [
       "<Figure size 640x480 with 1 Axes>"
      ]
     },
     "metadata": {},
     "output_type": "display_data"
    }
   ],
   "source": [
    "s15_5.plot(kind='bar')"
   ]
  },
  {
   "cell_type": "code",
   "execution_count": null,
   "metadata": {},
   "outputs": [],
   "source": []
  }
 ],
 "metadata": {
  "kernelspec": {
   "display_name": "evac",
   "language": "python",
   "name": "python3"
  },
  "language_info": {
   "codemirror_mode": {
    "name": "ipython",
    "version": 3
   },
   "file_extension": ".py",
   "mimetype": "text/x-python",
   "name": "python",
   "nbconvert_exporter": "python",
   "pygments_lexer": "ipython3",
   "version": "3.11.0"
  },
  "orig_nbformat": 4
 },
 "nbformat": 4,
 "nbformat_minor": 2
}
