{
 "cells": [
  {
   "cell_type": "code",
   "execution_count": 1,
   "metadata": {},
   "outputs": [],
   "source": [
    "import params as par\n",
    "import source\n",
    "import geopandas as gpd\n",
    "import matplotlib.pyplot as plt\n",
    "plt.style.use('default')"
   ]
  },
  {
   "cell_type": "code",
   "execution_count": 2,
   "metadata": {},
   "outputs": [
    {
     "name": "stderr",
     "output_type": "stream",
     "text": [
      "OpenCV: FFMPEG: tag 0x5634504d/'MP4V' is not supported with codec id 12 and format 'mp4 / MP4 (MPEG-4 Part 14)'\n",
      "OpenCV: FFMPEG: fallback to use tag 0x7634706d/'mp4v'\n"
     ]
    },
    {
     "name": "stdout",
     "output_type": "stream",
     "text": [
      "1669825035879_kochi_small/figures/Figure_0000.png\n",
      "1669825035879_kochi_small/figures/Figure_0001.png\n",
      "1669825035879_kochi_small/figures/Figure_0002.png\n",
      "1669825035879_kochi_small/figures/Figure_0003.png\n",
      "1669825035879_kochi_small/figures/Figure_0004.png\n",
      "1669825035879_kochi_small/figures/Figure_0005.png\n",
      "1669825035879_kochi_small/figures/Figure_0006.png\n",
      "1669825035879_kochi_small/figures/Figure_0007.png\n",
      "1669825035879_kochi_small/figures/Figure_0008.png\n",
      "1669825035879_kochi_small/figures/Figure_0009.png\n",
      "1669825035879_kochi_small/figures/Figure_0010.png\n",
      "1669825035879_kochi_small/figures/Figure_0011.png\n",
      "1669825035879_kochi_small/figures/Figure_0012.png\n",
      "1669825035879_kochi_small/figures/Figure_0013.png\n",
      "1669825035879_kochi_small/figures/Figure_0014.png\n",
      "1669825035879_kochi_small/figures/Figure_0015.png\n",
      "1669825035879_kochi_small/figures/Figure_0016.png\n",
      "1669825035879_kochi_small/figures/Figure_0017.png\n",
      "1669825035879_kochi_small/figures/Figure_0018.png\n",
      "1669825035879_kochi_small/figures/Figure_0019.png\n",
      "1669825035879_kochi_small/figures/Figure_0020.png\n",
      "1669825035879_kochi_small/figures/Figure_0021.png\n",
      "1669825035879_kochi_small/figures/Figure_0022.png\n",
      "1669825035879_kochi_small/figures/Figure_0023.png\n",
      "1669825035879_kochi_small/figures/Figure_0024.png\n",
      "1669825035879_kochi_small/figures/Figure_0025.png\n",
      "1669825035879_kochi_small/figures/Figure_0026.png\n",
      "1669825035879_kochi_small/figures/Figure_0027.png\n",
      "1669825035879_kochi_small/figures/Figure_0028.png\n",
      "1669825035879_kochi_small/figures/Figure_0029.png\n",
      "1669825035879_kochi_small/figures/Figure_0030.png\n",
      "1669825035879_kochi_small/figures/Figure_0031.png\n",
      "1669825035879_kochi_small/figures/Figure_0032.png\n",
      "1669825035879_kochi_small/figures/Figure_0033.png\n",
      "1669825035879_kochi_small/figures/Figure_0034.png\n",
      "1669825035879_kochi_small/figures/Figure_0035.png\n",
      "1669825035879_kochi_small/figures/Figure_0036.png\n",
      "1669825035879_kochi_small/figures/Figure_0037.png\n",
      "1669825035879_kochi_small/figures/Figure_0038.png\n",
      "1669825035879_kochi_small/figures/Figure_0039.png\n",
      "1669825035879_kochi_small/figures/Figure_0040.png\n",
      "1669825035879_kochi_small/figures/Figure_0041.png\n",
      "1669825035879_kochi_small/figures/Figure_0042.png\n",
      "1669825035879_kochi_small/figures/Figure_0043.png\n",
      "1669825035879_kochi_small/figures/Figure_0044.png\n",
      "1669825035879_kochi_small/figures/Figure_0045.png\n",
      "1669825035879_kochi_small/figures/Figure_0046.png\n",
      "1669825035879_kochi_small/figures/Figure_0047.png\n",
      "1669825035879_kochi_small/figures/Figure_0048.png\n",
      "1669825035879_kochi_small/figures/Figure_0049.png\n",
      "1669825035879_kochi_small/figures/Figure_0050.png\n",
      "1669825035879_kochi_small/figures/Figure_0051.png\n",
      "1669825035879_kochi_small/figures/Figure_0052.png\n",
      "1669825035879_kochi_small/figures/Figure_0053.png\n",
      "1669825035879_kochi_small/figures/Figure_0054.png\n",
      "1669825035879_kochi_small/figures/Figure_0055.png\n",
      "1669825035879_kochi_small/figures/Figure_0056.png\n",
      "1669825035879_kochi_small/figures/Figure_0057.png\n",
      "1669825035879_kochi_small/figures/Figure_0058.png\n",
      "1669825035879_kochi_small/figures/Figure_0059.png\n",
      "1669825035879_kochi_small/figures/Figure_0060.png\n",
      "1669825035879_kochi_small/figures/Figure_0061.png\n",
      "1669825035879_kochi_small/figures/Figure_0062.png\n",
      "1669825035879_kochi_small/figures/Figure_0063.png\n",
      "1669825035879_kochi_small/figures/Figure_0064.png\n",
      "1669825035879_kochi_small/figures/Figure_0065.png\n",
      "1669825035879_kochi_small/figures/Figure_0066.png\n",
      "1669825035879_kochi_small/figures/Figure_0067.png\n",
      "1669825035879_kochi_small/figures/Figure_0068.png\n",
      "1669825035879_kochi_small/figures/Figure_0069.png\n",
      "1669825035879_kochi_small/figures/Figure_0070.png\n",
      "1669825035879_kochi_small/figures/Figure_0071.png\n",
      "1669825035879_kochi_small/figures/Figure_0072.png\n",
      "1669825035879_kochi_small/figures/Figure_0073.png\n",
      "1669825035879_kochi_small/figures/Figure_0074.png\n",
      "1669825035879_kochi_small/figures/Figure_0075.png\n",
      "1669825035879_kochi_small/figures/Figure_0076.png\n",
      "1669825035879_kochi_small/figures/Figure_0077.png\n",
      "1669825035879_kochi_small/figures/Figure_0078.png\n",
      "1669825035879_kochi_small/figures/Figure_0079.png\n",
      "1669825035879_kochi_small/figures/Figure_0080.png\n",
      "1669825035879_kochi_small/figures/Figure_0081.png\n",
      "1669825035879_kochi_small/figures/Figure_0082.png\n",
      "1669825035879_kochi_small/figures/Figure_0083.png\n",
      "1669825035879_kochi_small/figures/Figure_0084.png\n",
      "1669825035879_kochi_small/figures/Figure_0085.png\n",
      "1669825035879_kochi_small/figures/Figure_0086.png\n",
      "1669825035879_kochi_small/figures/Figure_0087.png\n",
      "1669825035879_kochi_small/figures/Figure_0088.png\n",
      "\n",
      "***** Video created (159.21 seconds) *****\n"
     ]
    }
   ],
   "source": [
    "source.make_video.main()"
   ]
  },
  {
   "cell_type": "code",
   "execution_count": null,
   "metadata": {},
   "outputs": [],
   "source": [
    "#Verify AOS\n",
    "aos = gpd.read_file(par.AOS_FILE).to_crs(par.WK_CRS)\n",
    "print(aos.crs)\n",
    "aos.explore()"
   ]
  },
  {
   "cell_type": "code",
   "execution_count": null,
   "metadata": {},
   "outputs": [],
   "source": [
    "import osmnx as ox\n",
    "\n",
    "aos_gdf = aos\n",
    "area = {\n",
    "        \"north\": aos_gdf.total_bounds[3],\n",
    "        \"south\": aos_gdf.total_bounds[1],\n",
    "        \"east\": aos_gdf.total_bounds[2],\n",
    "        \"west\": aos_gdf.total_bounds[0],\n",
    "    }\n",
    "\n",
    "G = source.preprocess.createGraph(area=area, crs=par.PJ_CRS, ntype=par.OSM_NTYPE, plot=False)\n",
    "n, e = ox.graph_to_gdfs(G)"
   ]
  },
  {
   "cell_type": "code",
   "execution_count": null,
   "metadata": {},
   "outputs": [],
   "source": [
    "e[e['osmid'].islist()]"
   ]
  },
  {
   "cell_type": "code",
   "execution_count": null,
   "metadata": {},
   "outputs": [],
   "source": [
    "e.drop_duplicates(subset=['u_original','v_original'],inplace=True)\n"
   ]
  },
  {
   "cell_type": "code",
   "execution_count": null,
   "metadata": {},
   "outputs": [],
   "source": [
    "e.reset_index(inplace=True)\n",
    "e.head()"
   ]
  },
  {
   "cell_type": "code",
   "execution_count": null,
   "metadata": {},
   "outputs": [],
   "source": [
    "e.to_file('./edges.shp')"
   ]
  },
  {
   "cell_type": "code",
   "execution_count": null,
   "metadata": {},
   "outputs": [],
   "source": [
    "fig,axs = plt.subplots(1,7,sharex=True,sharey=True,figsize=(30,10))\n",
    "plt.tight_layout()\n",
    "shi_pol.plot(ax=axs[0])\n",
    "# shi_town.plot(ax=axs[1],column='Val_GovCod')\n",
    "# census.plot(ax=axs[2],column='M_TOTPOP_H',cmap='jet')\n",
    "buildings.plot(ax=axs[3])\n",
    "shelters.plot(ax=axs[4],column='HNJ_SITEI',cmap='jet')\n",
    "mesh.plot(ax=axs[5],column='MESH4_ID',cmap='jet')\n",
    "# edges.plot(ax=axs[6],color='grey',lw=1)\n",
    "# nodes.plot(ax=axs[6],markersize=3,color='k')\n"
   ]
  },
  {
   "cell_type": "code",
   "execution_count": null,
   "metadata": {},
   "outputs": [],
   "source": [
    "# aos = gpd.read_file(f'./case/{case}/aos.geojson',driver='GeoJSON')\n",
    "aos = shi_pol"
   ]
  },
  {
   "cell_type": "code",
   "execution_count": null,
   "metadata": {},
   "outputs": [],
   "source": [
    "c = census.clip(aos)\n",
    "# sh = shelters.clip(aos)\n",
    "m = mesh.clip(aos)\n",
    "e = edges.clip(aos)\n",
    "n = nodes.clip(aos)\n",
    "# t = shi_town.clip(aos)"
   ]
  },
  {
   "cell_type": "code",
   "execution_count": null,
   "metadata": {},
   "outputs": [],
   "source": [
    "fig,axs = plt.subplots(5,1,sharex=True,sharey=True,figsize=(10,20))\n",
    "plt.tight_layout()\n",
    "c.plot(ax=axs[0], column='M_TOTPOP_H',cmap='jet')\n",
    "# sh.plot(ax=axs[1], column='capacity_per',cmap='jet')\n",
    "m.plot(ax=axs[2], column='MESH4_ID',cmap='jet')\n",
    "e.plot(ax=axs[3], color='grey',lw=1)\n",
    "n.plot(ax=axs[3], markersize=3)\n",
    "# t.plot(ax=axs[4], column='Val_GovCod')"
   ]
  },
  {
   "cell_type": "code",
   "execution_count": null,
   "metadata": {},
   "outputs": [],
   "source": [
    "c.to_file(f'./case/{case}/aos_census.geojson',driver='GeoJSON')\n",
    "# sh.to_file(f'./case/{case}/aos_shelters.geojson',driver='GeoJSON')\n",
    "m.to_file(f'./case/{case}/aos_mesh.geojson',driver='GeoJSON')\n",
    "e.to_file(f'./case/{case}/aos_edges_esri.geojson',driver='GeoJSON')\n",
    "n.to_file(f'./case/{case}/aos_nodes_esri.geojson',driver='GeoJSON')\n",
    "# t.to_file(f'./case/{case}/aos_town.geojson',driver='GeoJSON')"
   ]
  },
  {
   "cell_type": "code",
   "execution_count": null,
   "metadata": {},
   "outputs": [],
   "source": [
    "import geopandas as gpd\n",
    "gdf = gpd.read_file('./case/kochi/aos_census.geojson', driver=\"GeoJSON\")\n",
    "gdf.iloc[:,:-1]"
   ]
  }
 ],
 "metadata": {
  "kernelspec": {
   "display_name": "Python 3.9.13 ('quantum')",
   "language": "python",
   "name": "python3"
  },
  "language_info": {
   "codemirror_mode": {
    "name": "ipython",
    "version": 3
   },
   "file_extension": ".py",
   "mimetype": "text/x-python",
   "name": "python",
   "nbconvert_exporter": "python",
   "pygments_lexer": "ipython3",
   "version": "3.9.13"
  },
  "orig_nbformat": 4,
  "vscode": {
   "interpreter": {
    "hash": "b5ce439744c3eed619cbf6160bc7dc7a7d330491abb983f364f45d8c77586752"
   }
  }
 },
 "nbformat": 4,
 "nbformat_minor": 2
}
